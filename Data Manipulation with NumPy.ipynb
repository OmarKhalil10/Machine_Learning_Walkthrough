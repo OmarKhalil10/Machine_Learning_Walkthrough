{
 "cells": [
  {
   "cell_type": "markdown",
   "id": "fc19502f",
   "metadata": {},
   "source": [
    "# 1- NumPy Arrays"
   ]
  },
  {
   "cell_type": "markdown",
   "id": "2389a42f",
   "metadata": {},
   "source": [
    "## We'll cover the following\n",
    "### Chapter Goals:\n",
    "* A. Arrays\n",
    "* B. Copying\n",
    "* C. Casting\n",
    "* D. NaN\n",
    "* E. Infinity\n",
    "* Time to Code!"
   ]
  },
  {
   "cell_type": "markdown",
   "id": "eab78cb1",
   "metadata": {},
   "source": [
    "## A. Arrays"
   ]
  },
  {
   "cell_type": "code",
   "execution_count": 1,
   "id": "abe0fec4",
   "metadata": {},
   "outputs": [
    {
     "name": "stdout",
     "output_type": "stream",
     "text": [
      "array([[0., 1., 2.],\n",
      "       [3., 4., 5.]], dtype=float32)\n"
     ]
    }
   ],
   "source": [
    "import numpy as np\n",
    "\n",
    "arr = np.array([[0, 1, 2], [3, 4, 5]],\n",
    "               dtype=np.float32)\n",
    "print(repr(arr))"
   ]
  },
  {
   "cell_type": "code",
   "execution_count": 2,
   "id": "4aba4dc0",
   "metadata": {},
   "outputs": [
    {
     "name": "stdout",
     "output_type": "stream",
     "text": [
      "array([-1.,  2.,  5.], dtype=float32)\n"
     ]
    }
   ],
   "source": [
    "import numpy as np  # import the NumPy library\n",
    "\n",
    "# Initializing a NumPy array\n",
    "arr = np.array([-1, 2, 5], dtype=np.float32)\n",
    "\n",
    "# Print the representation of the array\n",
    "print(repr(arr))"
   ]
  },
  {
   "cell_type": "code",
   "execution_count": 3,
   "id": "fd19b876",
   "metadata": {},
   "outputs": [
    {
     "name": "stdout",
     "output_type": "stream",
     "text": [
      "array([0. , 0.1, 2. ])\n"
     ]
    }
   ],
   "source": [
    "arr = np.array([0, 0.1, 2])\n",
    "print(repr(arr))"
   ]
  },
  {
   "cell_type": "markdown",
   "id": "b790969b",
   "metadata": {},
   "source": [
    "## B. Copying"
   ]
  },
  {
   "cell_type": "code",
   "execution_count": 4,
   "id": "3b9456b2",
   "metadata": {},
   "outputs": [
    {
     "name": "stdout",
     "output_type": "stream",
     "text": [
      "Array a: array([0, 1])\n",
      "Array a: array([5, 1])\n",
      "Array b: array([9, 8])\n",
      "Array d: array([6, 8])\n"
     ]
    }
   ],
   "source": [
    "a = np.array([0, 1])\n",
    "b = np.array([9, 8])\n",
    "c = a\n",
    "print('Array a: {}'.format(repr(a)))\n",
    "c[0] = 5\n",
    "print('Array a: {}'.format(repr(a)))\n",
    "\n",
    "d = b.copy()\n",
    "d[0] = 6\n",
    "print('Array b: {}'.format(repr(b)))\n",
    "print('Array d: {}'.format(repr(d)))"
   ]
  },
  {
   "cell_type": "markdown",
   "id": "f9289234",
   "metadata": {},
   "source": [
    "## C. Casting\n"
   ]
  },
  {
   "cell_type": "code",
   "execution_count": 5,
   "id": "0959673c",
   "metadata": {},
   "outputs": [
    {
     "name": "stdout",
     "output_type": "stream",
     "text": [
      "int32\n",
      "float32\n"
     ]
    }
   ],
   "source": [
    "arr = np.array([0, 1, 2])\n",
    "print(arr.dtype)\n",
    "arr = arr.astype(np.float32)\n",
    "print(arr.dtype)"
   ]
  },
  {
   "cell_type": "markdown",
   "id": "5758eefb",
   "metadata": {},
   "source": [
    "## D. NaN\n",
    "### Note that np.nan cannot take on an integer type.\n",
    "### A common usage for np.nan is as a filler value for incomplete data"
   ]
  },
  {
   "cell_type": "code",
   "execution_count": 6,
   "id": "f32ceed7",
   "metadata": {},
   "outputs": [
    {
     "name": "stdout",
     "output_type": "stream",
     "text": [
      "array([nan,  1.,  2.])\n",
      "array(['nan', 'abc'], dtype='<U32')\n"
     ]
    },
    {
     "data": {
      "text/plain": [
       "array([nan,  1.,  2.], dtype=float32)"
      ]
     },
     "execution_count": 6,
     "metadata": {},
     "output_type": "execute_result"
    }
   ],
   "source": [
    "arr = np.array([np.nan, 1, 2])\n",
    "print(repr(arr))\n",
    "\n",
    "arr = np.array([np.nan, 'abc'])\n",
    "print(repr(arr))\n",
    "\n",
    "# Will result in a ValueError: If we uncomment line 8 and run again.\n",
    "#np.array([np.nan, 1, 2], dtype=np.int32)\n",
    "\n",
    "np.array([np.nan, 1, 2], dtype=np.float32)"
   ]
  },
  {
   "cell_type": "markdown",
   "id": "16fd61e7",
   "metadata": {},
   "source": [
    "## E. Infinity\n",
    "\n",
    "### we use the np.inf special value. We can also represent negative infinity with -np.inf.\n",
    "\n",
    "### The code below shows an example usage of np.inf. Note that np.inf cannot take on an integer type."
   ]
  },
  {
   "cell_type": "code",
   "execution_count": 7,
   "id": "e92d2d3f",
   "metadata": {},
   "outputs": [
    {
     "name": "stdout",
     "output_type": "stream",
     "text": [
      "True\n",
      "array([inf,  5.])\n",
      "array([-inf,   1.])\n"
     ]
    },
    {
     "data": {
      "text/plain": [
       "array([inf,  3.], dtype=float32)"
      ]
     },
     "execution_count": 7,
     "metadata": {},
     "output_type": "execute_result"
    }
   ],
   "source": [
    "print(np.inf > 1000000)\n",
    "\n",
    "arr = np.array([np.inf, 5])\n",
    "print(repr(arr))\n",
    "\n",
    "arr = np.array([-np.inf, 1])\n",
    "print(repr(arr))\n",
    "\n",
    "# Will result in a OverflowError: If we uncomment line 10 and run again.\n",
    "#np.array([np.inf, 3], dtype=np.int32)\n",
    "np.array([np.inf, 3], dtype=np.float32)"
   ]
  },
  {
   "cell_type": "markdown",
   "id": "c3ef91b0",
   "metadata": {},
   "source": [
    "\n",
    "## Time to Code!"
   ]
  },
  {
   "cell_type": "code",
   "execution_count": 8,
   "id": "66f68940",
   "metadata": {},
   "outputs": [],
   "source": [
    "# The first array we'll create comes straight from a list of integers and np.nan.\n",
    "# The list contains np.nan as the first element, and the integers from 2 to 5, inclusive, as the next four elements.\n",
    "# Set arr equal to np.array applied to the specified list."
   ]
  },
  {
   "cell_type": "code",
   "execution_count": 9,
   "id": "7af73681",
   "metadata": {},
   "outputs": [
    {
     "name": "stdout",
     "output_type": "stream",
     "text": [
      "array([nan,  2.,  3.,  4.,  5.])\n"
     ]
    }
   ],
   "source": [
    "# CODE HERE\n",
    "\n",
    "import numpy as np\n",
    "arr = np.array([np.nan, 2,3,4,5])\n",
    "\n",
    "print(repr(arr))"
   ]
  },
  {
   "cell_type": "markdown",
   "id": "13d3ad0e",
   "metadata": {},
   "source": [
    "We now want to copy the array so we can change the first element to 10. This way we don't modify the original array.\n",
    "Set arr2 equal to arr.copy(), then set the first element of arr2 equal to 10."
   ]
  },
  {
   "cell_type": "code",
   "execution_count": 10,
   "id": "e4f48783",
   "metadata": {},
   "outputs": [
    {
     "name": "stdout",
     "output_type": "stream",
     "text": [
      "array([10.,  2.,  3.,  4.,  5.])\n"
     ]
    }
   ],
   "source": [
    "# CODE HERE\n",
    "import numpy as np\n",
    "\n",
    "arr = np.array([np.nan, 2,3,4,5])\n",
    "\n",
    "arr2 = arr.copy()\n",
    "\n",
    "arr2[0] = 10\n",
    "\n",
    "print(repr(arr2))"
   ]
  },
  {
   "cell_type": "markdown",
   "id": "0c7980dd",
   "metadata": {},
   "source": [
    "The next two arrays will use floating point numbers. The first array will be upcast to floating point numbers,\n",
    "while we manually cast the second array using np.float32.\n",
    "\n",
    "For manual casting, we use an array's inherent astype function, which takes in the new type as an argument and\n",
    "returns the casted array.\n",
    "\n",
    "Set float_arr equal to np.array applied to a list with elements 1, 5.4, and 3, in that order.\n",
    "\n",
    "Set float_arr2 equal to arr2.astype, with argument np.float32."
   ]
  },
  {
   "cell_type": "code",
   "execution_count": 11,
   "id": "fb61a79e",
   "metadata": {},
   "outputs": [
    {
     "name": "stdout",
     "output_type": "stream",
     "text": [
      "array([1. , 5.4, 3. ])\n",
      "array([10.,  2.,  3.,  4.,  5.], dtype=float32)\n"
     ]
    }
   ],
   "source": [
    "float_arr = np.array([1, 5.4, 3])\n",
    "float_arr2 = arr2.astype(np.float32)\n",
    "\n",
    "print(repr(float_arr))\n",
    "print(repr(float_arr2))"
   ]
  },
  {
   "cell_type": "markdown",
   "id": "d1f68246",
   "metadata": {},
   "source": [
    "The final array will be a multi-dimensional array, specifically a 2-D matrix.\n",
    "The 2-D matrix will have the integers 1, 2, 3 in its first row, and the integers 4, 5, 6 in its second row.\n",
    "We'll also manually set its type to np.float32.\n",
    "\n",
    "Set matrix equal to np.array with a list of lists (representing the specified 2-D matrix)\n",
    "as the first argument, and np.float32 as the dtype keyword argument."
   ]
  },
  {
   "cell_type": "code",
   "execution_count": 12,
   "id": "a9cb48c1",
   "metadata": {},
   "outputs": [
    {
     "name": "stdout",
     "output_type": "stream",
     "text": [
      "array([[1., 2., 3.],\n",
      "       [4., 5., 6.]], dtype=float32)\n"
     ]
    }
   ],
   "source": [
    "matrix = np.array([[1, 2, 3],\n",
    "                   [4, 5, 6]], dtype=np.float32)\n",
    "\n",
    "print(repr(matrix))"
   ]
  },
  {
   "cell_type": "markdown",
   "id": "c48e075f",
   "metadata": {},
   "source": [
    "# 2- NumPy Basics"
   ]
  },
  {
   "cell_type": "markdown",
   "id": "26a54649",
   "metadata": {},
   "source": [
    "## We'll cover the following\n",
    "\n",
    "### Chapter Goals:\n",
    "* A. Ranged data\n",
    "* B. Reshaping data\n",
    "* C. Transposing\n",
    "* D. Zeros and ones\n",
    "* Time to Code!"
   ]
  },
  {
   "cell_type": "markdown",
   "id": "2ac6f1f3",
   "metadata": {},
   "source": [
    "## A. Ranged data:\n",
    "\n",
    "While np.array can be used to create any array, it is equivalent to hardcoding an array.\n",
    "This won't work when the array has hundreds of values. Instead, NumPy provides an option\n",
    "to create ranged data arrays using np.arange. The function acts very similar to the range function in Python,\n",
    "and will always return a 1-D array.\n",
    "\n",
    "The code below contains example usages of np.arange."
   ]
  },
  {
   "cell_type": "code",
   "execution_count": 13,
   "id": "a1132c36",
   "metadata": {},
   "outputs": [
    {
     "name": "stdout",
     "output_type": "stream",
     "text": [
      "array([0, 1, 2, 3, 4])\n",
      "array([0., 1., 2., 3., 4., 5.])\n",
      "array([-1,  0,  1,  2,  3])\n",
      "array([-1.5,  0.5,  2.5])\n"
     ]
    }
   ],
   "source": [
    "arr = np.arange(5)\n",
    "print(repr(arr))\n",
    "\n",
    "arr = np.arange(5.1)\n",
    "print(repr(arr))\n",
    "\n",
    "arr = np.arange(-1, 4)\n",
    "print(repr(arr))\n",
    "\n",
    "arr = np.arange(-1.5, 4, 2)\n",
    "print(repr(arr))"
   ]
  },
  {
   "cell_type": "markdown",
   "id": "95f2058f",
   "metadata": {},
   "source": [
    "To specify the number of elements in the returned array, rather than the step size, we can use the np.linspace function.\n",
    "\n",
    "This function takes in a required first two arguments, for the start and end of the range, respectively.\n",
    "\n",
    "The end of the range is inclusive for np.linspace, unless the keyword argument endpoint is set to False.\n",
    "\n",
    "To specify the number of elements, we set the num keyword argument (its default value is 50).\n",
    "\n",
    "The code below shows example usages of np.linspace. It also takes in the dtype keyword argument for manual casting."
   ]
  },
  {
   "cell_type": "code",
   "execution_count": 14,
   "id": "4527b12c",
   "metadata": {},
   "outputs": [
    {
     "name": "stdout",
     "output_type": "stream",
     "text": [
      "array([ 5.,  7.,  9., 11.])\n",
      "array([5. , 6.5, 8. , 9.5])\n",
      "array([ 5,  7,  9, 11])\n"
     ]
    }
   ],
   "source": [
    "arr = np.linspace(5, 11, num=4)\n",
    "print(repr(arr))\n",
    "\n",
    "arr = np.linspace(5, 11, num=4, endpoint=False)\n",
    "print(repr(arr))\n",
    "\n",
    "arr = np.linspace(5, 11, num=4, dtype=np.int32)\n",
    "print(repr(arr))"
   ]
  },
  {
   "cell_type": "markdown",
   "id": "6b356968",
   "metadata": {},
   "source": [
    "## B. Reshaping data"
   ]
  },
  {
   "cell_type": "markdown",
   "id": "a899b3ac",
   "metadata": {},
   "source": [
    "The function we use to reshape data in NumPy is np.reshape. It takes in an array and a new shape as required arguments.\n",
    "The new shape must exactly contain all the elements from the input array. For example, we could reshape an array with\n",
    "12 elements to (4, 3), but we can't reshape it to (4, 4).\n",
    "\n",
    "We are allowed to use the special value of -1 in at most one dimension of the new shape.\n",
    "The dimension with -1 will take on the value necessary to allow the new shape to contain all the elements of the array.\n",
    " \n",
    "The code below shows example usages of np.reshape."
   ]
  },
  {
   "cell_type": "code",
   "execution_count": 15,
   "id": "02197833",
   "metadata": {},
   "outputs": [
    {
     "name": "stdout",
     "output_type": "stream",
     "text": [
      "array([[0, 1, 2, 3],\n",
      "       [4, 5, 6, 7]])\n",
      "New shape: (2, 4)\n",
      "array([[[0, 1],\n",
      "        [2, 3]],\n",
      "\n",
      "       [[4, 5],\n",
      "        [6, 7]]])\n",
      "New shape: (2, 2, 2)\n"
     ]
    }
   ],
   "source": [
    "arr = np.arange(8)\n",
    "\n",
    "reshaped_arr = np.reshape(arr, (2, 4))\n",
    "print(repr(reshaped_arr))\n",
    "print('New shape: {}'.format(reshaped_arr.shape))\n",
    "\n",
    "reshaped_arr = np.reshape(arr, (-1, 2, 2))\n",
    "print(repr(reshaped_arr))\n",
    "print('New shape: {}'.format(reshaped_arr.shape))"
   ]
  },
  {
   "cell_type": "markdown",
   "id": "dbe87bb0",
   "metadata": {},
   "source": [
    "## Flatenning an array:"
   ]
  },
  {
   "cell_type": "markdown",
   "id": "3bc95a20",
   "metadata": {},
   "source": [
    "Flattening an array reshapes it into a 1D array. Since we need to flatten data quite often, it is a useful function."
   ]
  },
  {
   "cell_type": "code",
   "execution_count": 16,
   "id": "a1b6d587",
   "metadata": {},
   "outputs": [
    {
     "name": "stdout",
     "output_type": "stream",
     "text": [
      "array([[0, 1, 2, 3],\n",
      "       [4, 5, 6, 7]])\n",
      "arr shape: (2, 4)\n",
      "array([0, 1, 2, 3, 4, 5, 6, 7])\n",
      "flattened shape: (8,)\n"
     ]
    }
   ],
   "source": [
    "arr = np.arange(8)\n",
    "arr = np.reshape(arr, (2, 4))\n",
    "flattened = arr.flatten()\n",
    "print(repr(arr))\n",
    "print('arr shape: {}'.format(arr.shape))\n",
    "print(repr(flattened))\n",
    "print('flattened shape: {}'.format(flattened.shape))"
   ]
  },
  {
   "cell_type": "markdown",
   "id": "440132bf",
   "metadata": {},
   "source": [
    "## C. Transposing"
   ]
  },
  {
   "cell_type": "markdown",
   "id": "7e52b459",
   "metadata": {},
   "source": [
    "We can just transpose the data, using the np.transpose function, to convert it to the proper format.\n",
    "\n",
    "The code below shows an example usage of the np.transpose function. The matrix rows become columns after the transpose."
   ]
  },
  {
   "cell_type": "code",
   "execution_count": 17,
   "id": "e29a675b",
   "metadata": {},
   "outputs": [
    {
     "name": "stdout",
     "output_type": "stream",
     "text": [
      "array([[0, 1],\n",
      "       [2, 3],\n",
      "       [4, 5],\n",
      "       [6, 7]])\n",
      "arr shape: (4, 2)\n",
      "array([[0, 2, 4, 6],\n",
      "       [1, 3, 5, 7]])\n",
      "transposed shape: (2, 4)\n"
     ]
    }
   ],
   "source": [
    "arr = np.arange(8)\n",
    "arr = np.reshape(arr, (4, 2))\n",
    "transposed = np.transpose(arr)\n",
    "print(repr(arr))\n",
    "print('arr shape: {}'.format(arr.shape))\n",
    "print(repr(transposed))\n",
    "print('transposed shape: {}'.format(transposed.shape))"
   ]
  },
  {
   "cell_type": "markdown",
   "id": "ecd4050d",
   "metadata": {},
   "source": [
    "axes in transposing, which represents the new permutation of the dimensions.\n",
    "\n",
    "The permutation is a tuple/list of integers, with the same length as the number of dimensions in the array.\n",
    " \n",
    "It tells us where to switch up the dimensions. For example, if the permutation had 3 at index 1, it means the\n",
    "\n",
    "old third dimension of the data becomes the new second dimension (since index 1 represents the second dimension)."
   ]
  },
  {
   "cell_type": "code",
   "execution_count": 18,
   "id": "fc255fe1",
   "metadata": {},
   "outputs": [
    {
     "name": "stdout",
     "output_type": "stream",
     "text": [
      "[ 0  1  2  3  4  5  6  7  8  9 10 11 12 13 14 15 16 17 18 19 20 21 22 23]\n",
      "[[[ 0  1]\n",
      "  [ 2  3]\n",
      "  [ 4  5]\n",
      "  [ 6  7]]\n",
      "\n",
      " [[ 8  9]\n",
      "  [10 11]\n",
      "  [12 13]\n",
      "  [14 15]]\n",
      "\n",
      " [[16 17]\n",
      "  [18 19]\n",
      "  [20 21]\n",
      "  [22 23]]]\n",
      "arr shape: (3, 4, 2)\n",
      "transposed shape: (4, 2, 3)\n"
     ]
    }
   ],
   "source": [
    "arr = np.arange(24)\n",
    "\n",
    "print(arr)\n",
    "\n",
    "arr = np.reshape(arr, (3, 4, 2))\n",
    "\n",
    "print(arr)\n",
    "\n",
    "transposed = np.transpose(arr, axes=(1, 2, 0))\n",
    "print('arr shape: {}'.format(arr.shape))\n",
    "print('transposed shape: {}'.format(transposed.shape))"
   ]
  },
  {
   "cell_type": "markdown",
   "id": "d8b776d4",
   "metadata": {},
   "source": [
    "In this example, the old first dimension became the new third dimension,\n",
    "the old second dimension became the new first dimension, and the old third dimension became \n",
    "the new second dimension. The default value for axes is a dimension reversal\n",
    "(e.g. for 3-D data the default axes value is [2, 1, 0])."
   ]
  },
  {
   "cell_type": "markdown",
   "id": "50d67ca6",
   "metadata": {},
   "source": [
    "## D. Zeros and ones"
   ]
  },
  {
   "cell_type": "markdown",
   "id": "8763f454",
   "metadata": {},
   "source": [
    "Sometimes, we need to create arrays filled solely with 0 or 1. For example, since binary data is labeled with 0 and 1,\n",
    "we may need to create dummy datasets of strictly one label. For creating these arrays, NumPy provides the functions\n",
    "np.zeros and np.ones. They both take in the same arguments, which includes just one required argument, the array shape.\n",
    "The functions also allow for manual casting using the dtype keyword argument.\n",
    "\n",
    "The code below shows example usages of np.zeros and np.ones."
   ]
  },
  {
   "cell_type": "code",
   "execution_count": 19,
   "id": "11457264",
   "metadata": {},
   "outputs": [
    {
     "name": "stdout",
     "output_type": "stream",
     "text": [
      "array([0., 0., 0., 0.])\n",
      "array([[1., 1., 1.],\n",
      "       [1., 1., 1.]])\n",
      "array([[1, 1, 1],\n",
      "       [1, 1, 1]])\n"
     ]
    }
   ],
   "source": [
    "arr = np.zeros(4)\n",
    "print(repr(arr))\n",
    "\n",
    "arr = np.ones((2, 3))\n",
    "print(repr(arr))\n",
    "\n",
    "arr = np.ones((2, 3), dtype=np.int32)\n",
    "print(repr(arr))"
   ]
  },
  {
   "cell_type": "markdown",
   "id": "94c5fc1a",
   "metadata": {},
   "source": [
    "If we want to create an array of 0's or 1's with the same shape as another array,\n",
    "we can use np.zeros_like and np.ones_like.\n",
    "\n",
    "The code below shows example usages of np.zeros_like and np.ones_like."
   ]
  },
  {
   "cell_type": "code",
   "execution_count": 20,
   "id": "721843f6",
   "metadata": {},
   "outputs": [
    {
     "name": "stdout",
     "output_type": "stream",
     "text": [
      "array([[0, 0],\n",
      "       [0, 0]])\n",
      "array([[1., 1.],\n",
      "       [1., 1.]])\n",
      "array([[1, 1],\n",
      "       [1, 1]])\n"
     ]
    }
   ],
   "source": [
    "arr = np.array([[1, 2], [3, 4]])\n",
    "print(repr(np.zeros_like(arr)))\n",
    "\n",
    "arr = np.array([[0., 1.], [1.2, 4.]])\n",
    "print(repr(np.ones_like(arr)))\n",
    "print(repr(np.ones_like(arr, dtype=np.int32)))"
   ]
  },
  {
   "cell_type": "markdown",
   "id": "24fb3069",
   "metadata": {},
   "source": [
    "## Time to Code!"
   ]
  },
  {
   "cell_type": "code",
   "execution_count": 21,
   "id": "96c3e385",
   "metadata": {},
   "outputs": [
    {
     "name": "stdout",
     "output_type": "stream",
     "text": [
      "array([ 0,  1,  2,  3,  4,  5,  6,  7,  8,  9, 10, 11])\n",
      "array([[[ 0,  1],\n",
      "        [ 2,  3],\n",
      "        [ 4,  5]],\n",
      "\n",
      "       [[ 6,  7],\n",
      "        [ 8,  9],\n",
      "        [10, 11]]])\n"
     ]
    }
   ],
   "source": [
    "# CODE HERE\n",
    "\n",
    "arr = np.arange(12)\n",
    "\n",
    "reshaped = arr.reshape(2,3,2)\n",
    "\n",
    "print(repr(arr))\n",
    "\n",
    "print(repr(reshaped))"
   ]
  },
  {
   "cell_type": "code",
   "execution_count": 22,
   "id": "b5f59e51",
   "metadata": {},
   "outputs": [],
   "source": [
    "# Using flatten() Function"
   ]
  },
  {
   "cell_type": "code",
   "execution_count": 23,
   "id": "ff0f2256",
   "metadata": {},
   "outputs": [
    {
     "data": {
      "text/plain": [
       "array([ 0,  1,  2,  3,  4,  5,  6,  7,  8,  9, 10, 11])"
      ]
     },
     "execution_count": 23,
     "metadata": {},
     "output_type": "execute_result"
    }
   ],
   "source": [
    "reshaped.flatten()"
   ]
  },
  {
   "cell_type": "code",
   "execution_count": 24,
   "id": "99870936",
   "metadata": {},
   "outputs": [],
   "source": [
    "# Using transpose function()"
   ]
  },
  {
   "cell_type": "code",
   "execution_count": 25,
   "id": "7d7c701e",
   "metadata": {},
   "outputs": [
    {
     "name": "stdout",
     "output_type": "stream",
     "text": [
      "[[[ 0  6]\n",
      "  [ 1  7]]\n",
      "\n",
      " [[ 2  8]\n",
      "  [ 3  9]]\n",
      "\n",
      " [[ 4 10]\n",
      "  [ 5 11]]]\n"
     ]
    }
   ],
   "source": [
    "# CODE HERE\n",
    "\n",
    "flattened = reshaped.flatten()\n",
    "\n",
    "transposed = np.transpose(reshaped, axes=(1, 2, 0))\n",
    "\n",
    "print(transposed)"
   ]
  },
  {
   "cell_type": "code",
   "execution_count": 26,
   "id": "df8768ab",
   "metadata": {},
   "outputs": [
    {
     "name": "stdout",
     "output_type": "stream",
     "text": [
      "array([0., 0., 0., 0., 0.])\n",
      "array([[[1, 1],\n",
      "        [1, 1]],\n",
      "\n",
      "       [[1, 1],\n",
      "        [1, 1]],\n",
      "\n",
      "       [[1, 1],\n",
      "        [1, 1]]])\n",
      "array([[[0, 0],\n",
      "        [0, 0]],\n",
      "\n",
      "       [[0, 0],\n",
      "        [0, 0]],\n",
      "\n",
      "       [[0, 0],\n",
      "        [0, 0]]])\n"
     ]
    }
   ],
   "source": [
    "zeros_arr = np.zeros(5)\n",
    "\n",
    "ones_arr = np.ones_like(transposed)\n",
    "\n",
    "zeros_like = np.zeros_like(transposed)\n",
    "\n",
    "print(repr(zeros_arr))\n",
    "print(repr(ones_arr))\n",
    "print(repr(zeros_like))"
   ]
  },
  {
   "cell_type": "code",
   "execution_count": 27,
   "id": "e8d78c61",
   "metadata": {},
   "outputs": [
    {
     "name": "stdout",
     "output_type": "stream",
     "text": [
      "array([-3.5 , -3.45, -3.4 , -3.35, -3.3 , -3.25, -3.2 , -3.15, -3.1 ,\n",
      "       -3.05, -3.  , -2.95, -2.9 , -2.85, -2.8 , -2.75, -2.7 , -2.65,\n",
      "       -2.6 , -2.55, -2.5 , -2.45, -2.4 , -2.35, -2.3 , -2.25, -2.2 ,\n",
      "       -2.15, -2.1 , -2.05, -2.  , -1.95, -1.9 , -1.85, -1.8 , -1.75,\n",
      "       -1.7 , -1.65, -1.6 , -1.55, -1.5 , -1.45, -1.4 , -1.35, -1.3 ,\n",
      "       -1.25, -1.2 , -1.15, -1.1 , -1.05, -1.  , -0.95, -0.9 , -0.85,\n",
      "       -0.8 , -0.75, -0.7 , -0.65, -0.6 , -0.55, -0.5 , -0.45, -0.4 ,\n",
      "       -0.35, -0.3 , -0.25, -0.2 , -0.15, -0.1 , -0.05,  0.  ,  0.05,\n",
      "        0.1 ,  0.15,  0.2 ,  0.25,  0.3 ,  0.35,  0.4 ,  0.45,  0.5 ,\n",
      "        0.55,  0.6 ,  0.65,  0.7 ,  0.75,  0.8 ,  0.85,  0.9 ,  0.95,\n",
      "        1.  ,  1.05,  1.1 ,  1.15,  1.2 ,  1.25,  1.3 ,  1.35,  1.4 ,\n",
      "        1.45,  1.5 ])\n"
     ]
    }
   ],
   "source": [
    "points = np.linspace(-3.5,1.5, num = 101)\n",
    "print(repr(points))"
   ]
  },
  {
   "cell_type": "markdown",
   "id": "b72ee7f2",
   "metadata": {},
   "source": [
    "# 3. Math\n",
    "## Understand how arithmetic and linear algebra work in NumPy.\n",
    "\n",
    "### We'll cover the following\n",
    "\n",
    "### Chapter Goals:\n",
    "* Arithmetic\n",
    "* Non-linear functions\n",
    "* Matrix multiplication\n",
    "* Time to Code!"
   ]
  },
  {
   "cell_type": "markdown",
   "id": "80292682",
   "metadata": {},
   "source": [
    "## A. Arithmetic\n",
    "One of the main purposes of NumPy is to perform multi-dimensional arithmetic. Using NumPy arrays, we can apply arithmetic to each element with a single operation.\n",
    "\n",
    "The code below shows multi-dimensional arithmetic with NumPy."
   ]
  },
  {
   "cell_type": "code",
   "execution_count": 28,
   "id": "0a9fcbe2",
   "metadata": {},
   "outputs": [
    {
     "name": "stdout",
     "output_type": "stream",
     "text": [
      "array([[2, 3],\n",
      "       [4, 5]])\n",
      "array([[-0.2,  0.8],\n",
      "       [ 1.8,  2.8]])\n",
      "array([[2, 4],\n",
      "       [6, 8]])\n",
      "array([[0.5, 1. ],\n",
      "       [1.5, 2. ]])\n",
      "array([[0, 1],\n",
      "       [1, 2]], dtype=int32)\n",
      "array([[ 1,  4],\n",
      "       [ 9, 16]])\n",
      "array([[1.        , 1.41421356],\n",
      "       [1.73205081, 2.        ]])\n"
     ]
    }
   ],
   "source": [
    "arr = np.array([[1, 2], [3, 4]])\n",
    "# Add 1 to element values\n",
    "print(repr(arr + 1))\n",
    "# Subtract element values by 1.2\n",
    "print(repr(arr - 1.2))\n",
    "# Double element values\n",
    "print(repr(arr * 2))\n",
    "# Halve element values\n",
    "print(repr(arr / 2))\n",
    "# Integer division (half)\n",
    "print(repr(arr // 2))\n",
    "# Square element values\n",
    "print(repr(arr**2))\n",
    "# Square root element values\n",
    "print(repr(arr**0.5))"
   ]
  },
  {
   "cell_type": "markdown",
   "id": "b930fa64",
   "metadata": {},
   "source": [
    "Using NumPy arithmetic, we can easily modify large amounts of numeric data with only a few operations. For example, we could convert a dataset of Fahrenheit temperatures to their equivalent Celsius form.\n",
    "\n",
    "The code below converts Fahrenheit to Celsius in NumPy."
   ]
  },
  {
   "cell_type": "code",
   "execution_count": 29,
   "id": "1e03bc7e",
   "metadata": {},
   "outputs": [
    {
     "name": "stdout",
     "output_type": "stream",
     "text": [
      "Celsius: array([  0., -20., -10., -40.])\n"
     ]
    }
   ],
   "source": [
    "def f2c(temps):\n",
    "  return (5/9)*(temps-32)\n",
    "\n",
    "fahrenheits = np.array([32, -4, 14, -40])\n",
    "celsius = f2c(fahrenheits)\n",
    "print('Celsius: {}'.format(repr(celsius)))"
   ]
  },
  {
   "cell_type": "markdown",
   "id": "c5effc4c",
   "metadata": {},
   "source": [
    "It is important to note that performing arithmetic on NumPy arrays does not change the original array, and instead produces a new array that is the result of the arithmetic operation."
   ]
  },
  {
   "cell_type": "markdown",
   "id": "6ca797da",
   "metadata": {},
   "source": [
    "# B. Non-linear functions#\n",
    "Apart from basic arithmetic operations, NumPy also allows you to use non-linear functions such as exponentials and logarithms.\n",
    "\n",
    "The function **np.exp** performs a base e exponential on an array, while the function **np.exp2** performs a base 2 exponential. Likewise, **np.log**, **np.log2**, and **np.log10** all perform logarithms on an input array, using base e, base 2, and base 10, respectively.\n",
    "\n",
    "The code below shows various exponentials and logarithms with NumPy. Note that **np.e** and **np.pi** represent the mathematical constants e and π, respectively."
   ]
  },
  {
   "cell_type": "code",
   "execution_count": 30,
   "id": "718f9fa6",
   "metadata": {},
   "outputs": [
    {
     "name": "stdout",
     "output_type": "stream",
     "text": [
      "array([[ 2.71828183,  7.3890561 ],\n",
      "       [20.08553692, 54.59815003]])\n",
      "array([[ 2.,  4.],\n",
      "       [ 8., 16.]])\n",
      "array([[ 1.        , 10.        ],\n",
      "       [ 2.71828183,  3.14159265]])\n",
      "array([[0.        , 2.30258509],\n",
      "       [1.        , 1.14472989]])\n",
      "array([[0.        , 1.        ],\n",
      "       [0.43429448, 0.49714987]])\n"
     ]
    }
   ],
   "source": [
    "arr = np.array([[1, 2], [3, 4]])\n",
    "# Raised to power of e\n",
    "print(repr(np.exp(arr)))\n",
    "# Raised to power of 2\n",
    "print(repr(np.exp2(arr)))\n",
    "\n",
    "arr2 = np.array([[1, 10], [np.e, np.pi]])\n",
    "\n",
    "print(repr(arr2))\n",
    "\n",
    "# Natural logarithm\n",
    "print(repr(np.log(arr2)))\n",
    "# Base 10 logarithm\n",
    "print(repr(np.log10(arr2)))"
   ]
  },
  {
   "cell_type": "markdown",
   "id": "04f2132f",
   "metadata": {},
   "source": [
    "To do a regular power operation with any base, we use **np.power**. The first argument to the function is the base, while the second is the power. If the base or power is an array rather than a single number, the operation is applied to every element in the array.\n",
    "\n",
    "The code below shows examples of using **np.power**."
   ]
  },
  {
   "cell_type": "code",
   "execution_count": 31,
   "id": "b917a542",
   "metadata": {},
   "outputs": [
    {
     "name": "stdout",
     "output_type": "stream",
     "text": [
      "array([[ 3,  9],\n",
      "       [27, 81]], dtype=int32)\n",
      "array([[ 10.2,  16. ],\n",
      "       [ 27. , 625. ]])\n"
     ]
    }
   ],
   "source": [
    "arr = np.array([[1, 2], [3, 4]])\n",
    "# Raise 3 to power of each number in arr\n",
    "print(repr(np.power(3, arr)))\n",
    "arr2 = np.array([[10.2, 4], [3, 5]])\n",
    "# Raise arr2 to power of each number in arr\n",
    "print(repr(np.power(arr2, arr)))"
   ]
  },
  {
   "cell_type": "markdown",
   "id": "151d3644",
   "metadata": {},
   "source": [
    "## C. Matrix multiplication#\n",
    "Since NumPy arrays are basically vectors and matrices, it makes sense that there are functions for dot products and matrix multiplication. Specifically, the main function to use is **np.matmul**, which takes two vector/matrix arrays as input and produces a dot product or matrix multiplication.\n",
    "\n",
    "The code below shows various examples of matrix multiplication. When both inputs are 1-D, the output is the dot product.\n",
    "\n",
    "Note that the dimensions of the two input matrices must be valid for a matrix multiplication. Specifically, the second dimension of the first matrix must equal the first dimension of the second matrix, otherwise **np.matmul** will result in a **ValueError**."
   ]
  },
  {
   "cell_type": "code",
   "execution_count": 32,
   "id": "fd487084",
   "metadata": {},
   "outputs": [
    {
     "name": "stdout",
     "output_type": "stream",
     "text": [
      "27\n",
      "array([[  5,   4,  -7],\n",
      "       [  9,   8, -13],\n",
      "       [ 13,  12, -19]])\n",
      "array([[  4,   4],\n",
      "       [-11, -10]])\n"
     ]
    }
   ],
   "source": [
    "arr1 = np.array([1, 2, 3])\n",
    "arr2 = np.array([-3, 0, 10])\n",
    "print(np.matmul(arr1, arr2))\n",
    "\n",
    "arr3 = np.array([[1, 2], [3, 4], [5, 6]])\n",
    "arr4 = np.array([[-1, 0, 1], [3, 2, -4]])\n",
    "print(repr(np.matmul(arr3, arr4)))\n",
    "print(repr(np.matmul(arr4, arr3)))\n",
    "\n",
    "# This will result in a ValueError: If we uncomment and run again.\n",
    "#print(repr(np.matmul(arr3, arr3)))"
   ]
  },
  {
   "cell_type": "markdown",
   "id": "a8d85e52",
   "metadata": {},
   "source": [
    "## Time to Code!\n"
   ]
  },
  {
   "cell_type": "code",
   "execution_count": 33,
   "id": "fc6c9343",
   "metadata": {},
   "outputs": [],
   "source": [
    "arr = np.array([[-0.5, 0.8, -0.1],\n",
    "                [0.0, -1.2, 1.3]])\n",
    "\n",
    "arr2 = np.array([[1.2, 3.1],\n",
    "                 [1.2, 0.3],\n",
    "                 [1.5, 2.2]])"
   ]
  },
  {
   "cell_type": "markdown",
   "id": "fa8004bd",
   "metadata": {},
   "source": [
    "Next we'll apply some arithmetic to arr. Specifically, we'll do multiplication, addition, and squaring.\n",
    "\n",
    "Set multiplied equal to arr multiplied by np.pi.\n",
    "\n",
    "Then set added equal to the result of adding arr and multiplied.\n",
    "\n",
    "Finally, set squared equal to added with each of its elements squared."
   ]
  },
  {
   "cell_type": "code",
   "execution_count": 34,
   "id": "8d57a12c",
   "metadata": {},
   "outputs": [
    {
     "name": "stdout",
     "output_type": "stream",
     "text": [
      "array([[-1.57079633,  2.51327412, -0.31415927],\n",
      "       [ 0.        , -3.76991118,  4.08407045]])\n",
      "array([[-2.07079633,  3.31327412, -0.41415927],\n",
      "       [ 0.        , -4.96991118,  5.38407045]])\n",
      "array([[ 4.28819743, 10.97778541,  0.1715279 ],\n",
      "       [ 0.        , 24.70001718, 28.98821461]])\n"
     ]
    }
   ],
   "source": [
    "multiplied = arr * np.pi\n",
    "added = arr + multiplied\n",
    "squared = added**2\n",
    "\n",
    "print(repr(multiplied))\n",
    "print(repr(added))\n",
    "print(repr(squared))"
   ]
  },
  {
   "cell_type": "markdown",
   "id": "fcf63ffd",
   "metadata": {},
   "source": [
    "After the arithmetic operations, we'll apply the base e exponential and logarithm to our array matrices.\n",
    "\n",
    "Set exponential equal to np.exp applied to squared.\n",
    "\n",
    "Then set logged equal to np.log applied to arr2."
   ]
  },
  {
   "cell_type": "code",
   "execution_count": 35,
   "id": "9108d32e",
   "metadata": {},
   "outputs": [
    {
     "name": "stdout",
     "output_type": "stream",
     "text": [
      "array([[7.28350596e+01, 5.85587272e+04, 1.18711726e+00],\n",
      "       [1.00000000e+00, 5.33434578e+10, 3.88527393e+12]])\n",
      "array([[ 0.18232156,  1.13140211],\n",
      "       [ 0.18232156, -1.2039728 ],\n",
      "       [ 0.40546511,  0.78845736]])\n"
     ]
    }
   ],
   "source": [
    "# CODE HERE\n",
    "\n",
    "exponential = np.exp(squared)\n",
    "\n",
    "logged = np.log(arr2)\n",
    "\n",
    "print(repr(exponential))\n",
    "print(repr(logged))"
   ]
  },
  {
   "cell_type": "markdown",
   "id": "7c81eb7e",
   "metadata": {},
   "source": [
    "Note that exponential has shape (2, 3) and logged has shape (3, 2). So we can perform matrix multiplication both ways.\n",
    "\n",
    "Set matmul1 equal to np.matmul with first argument logged and second argument exponential. Note that matmul1 will have shape (3, 3).\n",
    "\n",
    "Then set matmul2 equal to np.matmul with first argument exponential and second argument logged. Note that matmul2 will have shape (2, 2)."
   ]
  },
  {
   "cell_type": "code",
   "execution_count": 36,
   "id": "ee101bff",
   "metadata": {},
   "outputs": [
    {
     "name": "stdout",
     "output_type": "stream",
     "text": [
      "array([[ 1.44108036e+01,  6.03529115e+10,  4.39580713e+12],\n",
      "       [ 1.20754286e+01, -6.42240618e+10, -4.67776415e+12],\n",
      "       [ 3.03205327e+01,  4.20590657e+10,  3.06337283e+12]])\n",
      "array([[ 1.06902790e+04, -7.04197733e+04],\n",
      "       [ 1.58506868e+12,  2.99914875e+12]])\n"
     ]
    }
   ],
   "source": [
    "matmul1 = np.matmul(logged, exponential)\n",
    "\n",
    "matmul2 = np.matmul(exponential, logged)\n",
    "\n",
    "print(repr(matmul1))\n",
    "print(repr(matmul2))"
   ]
  },
  {
   "cell_type": "markdown",
   "id": "a7478f40",
   "metadata": {},
   "source": [
    "# 4. Random\n",
    "## Generate numbers and arrays from different random distributions.\n",
    "\n",
    "### We'll cover the following\n",
    "\n",
    "### Chapter Goals:\n",
    "* A. Random integers\n",
    "* B. Utility functions\n",
    "* C. Distributions\n",
    "* D. Custom sampling\n",
    "* Time to Code!"
   ]
  },
  {
   "cell_type": "markdown",
   "id": "ef8b3938",
   "metadata": {},
   "source": [
    "## A. Random integers\n",
    "Similar to the Python **random** module, NumPy has its own submodule for pseudo-random number generation called **np.random**. It provides all the necessary randomized operations and extends it to multi-dimensional arrays. To generate pseudo-random integers, we use the **np.random.randint** function.\n",
    "\n",
    "The code below shows example usages of **np.random.randint**."
   ]
  },
  {
   "cell_type": "code",
   "execution_count": 37,
   "id": "6af78984",
   "metadata": {},
   "outputs": [
    {
     "name": "stdout",
     "output_type": "stream",
     "text": [
      "2\n",
      "1\n",
      "5\n",
      "array([[ -7,   9,  29,  -6,  29],\n",
      "       [ -7,  11,  24,  22,   7],\n",
      "       [ -8,  16,  10,   7,  12],\n",
      "       [ 23,  -2,  25,   2, -10]])\n"
     ]
    }
   ],
   "source": [
    "print(np.random.randint(5))\n",
    "print(np.random.randint(5))\n",
    "print(np.random.randint(5, high=6))\n",
    "\n",
    "random_arr = np.random.randint(-10, high=30,\n",
    "                               size=(4, 5))\n",
    "print(repr(random_arr))"
   ]
  },
  {
   "cell_type": "markdown",
   "id": "adb36157",
   "metadata": {},
   "source": [
    "The np.random.randint function takes in a single required argument, which actually depends on the high keyword argument. If high=None (which is the default value), then the required argument represents the upper (exclusive) end of the range, with the lower end being 0. Specifically, if the required argument is n, then the random integer is chosen uniformly from the range [0, n).\n",
    "\n",
    "If **high is not None**, then the required **argument** will **represent** the lower (**inclusive**) end of the range, while **high** **represents** the upper (**exclusive**) end.\n",
    "\n",
    "The **size** keyword argument specifies the **size of the output array**, where each integer in the array is randomly drawn from the specified range. As a default, np.random.randint returns a single integer."
   ]
  },
  {
   "cell_type": "markdown",
   "id": "df31aa89",
   "metadata": {},
   "source": [
    "## B. Utility functions\n",
    "Some fundamental utility functions from the np.random module are np.random.seed and np.random.shuffle. We use the np.random.seed function to set the random seed, which allows us to control the outputs of the pseudo-random functions. The function takes in a single integer as an argument, representing the random seed.\n",
    "\n",
    "The code below uses np.random.seed with the same random seed. Note how the outputs of the random functions in each subsequent run are identical when we set the same random seed."
   ]
  },
  {
   "cell_type": "markdown",
   "id": "7a3cf68c",
   "metadata": {},
   "source": [
    "### Using np.random.seed() Function"
   ]
  },
  {
   "cell_type": "code",
   "execution_count": 38,
   "id": "d52ed51a",
   "metadata": {},
   "outputs": [
    {
     "name": "stdout",
     "output_type": "stream",
     "text": [
      "5\n",
      "array([[15, 75],\n",
      "       [12, 78]])\n",
      "8\n",
      "array([[18, 75],\n",
      "       [25, 46]])\n",
      "5\n",
      "array([[15, 75],\n",
      "       [12, 78]])\n"
     ]
    }
   ],
   "source": [
    "np.random.seed(1)\n",
    "print(np.random.randint(10))\n",
    "random_arr = np.random.randint(3, high=100,\n",
    "                               size=(2, 2))\n",
    "print(repr(random_arr))\n",
    "\n",
    "# New seed\n",
    "np.random.seed(2)\n",
    "print(np.random.randint(10))\n",
    "random_arr = np.random.randint(3, high=100,\n",
    "                               size=(2, 2))\n",
    "print(repr(random_arr))\n",
    "\n",
    "# Original seed\n",
    "np.random.seed(1)\n",
    "print(np.random.randint(10))\n",
    "random_arr = np.random.randint(3, high=100,\n",
    "                               size=(2, 2))\n",
    "print(repr(random_arr))"
   ]
  },
  {
   "cell_type": "markdown",
   "id": "5bd8015f",
   "metadata": {},
   "source": [
    "### Using np.random.shuffle() function"
   ]
  },
  {
   "cell_type": "markdown",
   "id": "e14878a4",
   "metadata": {},
   "source": [
    "The np.random.shuffle function allows us to randomly shuffle an array. Note that the shuffling happens in place (i.e. no return value), and shuffling multi-dimensional arrays only shuffles the first dimension.\n",
    "\n",
    "The code below shows example usages of np.random.shuffle. Note that **only the rows of matrix are shuffled** (i.e. shuffling along first dimension only)."
   ]
  },
  {
   "cell_type": "code",
   "execution_count": 39,
   "id": "e1ebab57",
   "metadata": {},
   "outputs": [
    {
     "name": "stdout",
     "output_type": "stream",
     "text": [
      "array([3, 4, 2, 5, 1])\n",
      "array([5, 3, 4, 2, 1])\n",
      "array([[4, 5, 6],\n",
      "       [7, 8, 9],\n",
      "       [1, 2, 3]])\n"
     ]
    }
   ],
   "source": [
    "vec = np.array([1, 2, 3, 4, 5])\n",
    "np.random.shuffle(vec)\n",
    "print(repr(vec))\n",
    "np.random.shuffle(vec)\n",
    "print(repr(vec))\n",
    "\n",
    "matrix = np.array([[1, 2, 3],\n",
    "                   [4, 5, 6],\n",
    "                   [7, 8, 9]])\n",
    "np.random.shuffle(matrix)\n",
    "print(repr(matrix))"
   ]
  },
  {
   "cell_type": "markdown",
   "id": "43e0ac99",
   "metadata": {},
   "source": [
    "## C. Distributions\n",
    "Using **np.random we can also draw samples from probability distributions**. For example, we can use **np.random.uniform** to draw **pseudo-random real numbers from a uniform distribution**.\n",
    "\n",
    "The code below shows usages of np.random.uniform."
   ]
  },
  {
   "cell_type": "code",
   "execution_count": 40,
   "id": "637d5828",
   "metadata": {},
   "outputs": [
    {
     "name": "stdout",
     "output_type": "stream",
     "text": [
      "0.3132735169322751\n",
      "0.4408281904196243\n",
      "array([0.44345289, 0.22957721, 0.53441391])\n",
      "array([[5.09984683, 0.85200471],\n",
      "       [0.60549667, 5.33388844]])\n"
     ]
    }
   ],
   "source": [
    "print(np.random.uniform())\n",
    "print(np.random.uniform(low=-1.5, high=2.2))\n",
    "print(repr(np.random.uniform(size=3)))\n",
    "print(repr(np.random.uniform(low=-3.4, high=5.9,\n",
    "                             size=(2, 2))))"
   ]
  },
  {
   "cell_type": "markdown",
   "id": "952fe21f",
   "metadata": {},
   "source": [
    "The function np.random.uniform actually has no required arguments. The keyword arguments, low and high, represent the inclusive lower end and exclusive upper end from which to draw random samples. Since they have default values of 0.0 and 1.0, respectively, the default outputs of np.random.uniform come from the range [0.0, 1.0).\n",
    "\n",
    "The size keyword argument is the same as the one for np.random.randint, i.e. it represents the output size of the array.\n",
    "\n",
    "Another popular distribution we can sample from is the **normal (Gaussian) distribution**. The function we use is **np.random.normal**.\n",
    "\n",
    "The code below shows usages of np.random.normal."
   ]
  },
  {
   "attachments": {
    "image.png": {
     "image/png": "[encoded data removed]"
    }
   },
   "cell_type": "markdown",
   "id": "33c42b2f",
   "metadata": {},
   "source": [
    "![image.png](attachment:image.png)"
   ]
  },
  {
   "cell_type": "code",
   "execution_count": 41,
   "id": "0ff06ab4",
   "metadata": {},
   "outputs": [
    {
     "name": "stdout",
     "output_type": "stream",
     "text": [
      "0.7252740646272712\n",
      "4.772112039383628\n",
      "array([[ 2.07318791, -2.17754724],\n",
      "       [-0.89337346, -0.89545991]])\n"
     ]
    }
   ],
   "source": [
    "print(np.random.normal())\n",
    "print(np.random.normal(loc=1.5, scale=3.5))\n",
    "print(repr(np.random.normal(loc=-2.4, scale=4.0,\n",
    "                            size=(2, 2))))"
   ]
  },
  {
   "cell_type": "markdown",
   "id": "0e30b690",
   "metadata": {},
   "source": [
    "Like np.random.uniform, np.random.normal **has no required arguments** \n",
    "The **loc** and **scale** keyword arguments represent the **mean** and **standard deviation**, **respectively**, of the normal distribution we sample from."
   ]
  },
  {
   "cell_type": "markdown",
   "id": "5f86a02f",
   "metadata": {},
   "source": [
    "## D. Custom sampling\n",
    "While NumPy provides built-in distributions to sample from, we can also sample from a custom distribution with the **np.random.choice()** function.\n",
    "\n",
    "The code below shows example usages of np.random.choice."
   ]
  },
  {
   "cell_type": "code",
   "execution_count": 42,
   "id": "6b353b58",
   "metadata": {},
   "outputs": [
    {
     "name": "stdout",
     "output_type": "stream",
     "text": [
      "green\n",
      "array(['blue', 'red'], dtype='<U5')\n",
      "array([['red', 'red'],\n",
      "       ['blue', 'red']], dtype='<U5')\n"
     ]
    }
   ],
   "source": [
    "colors = ['red', 'blue', 'green']\n",
    "print(np.random.choice(colors))\n",
    "print(repr(np.random.choice(colors, size=2)))\n",
    "print(repr(np.random.choice(colors, size=(2, 2),\n",
    "                            p=[0.8, 0.19, 0.01])))"
   ]
  },
  {
   "cell_type": "markdown",
   "id": "b00f51c4",
   "metadata": {},
   "source": [
    "The required argument for np.random.choice is the custom distribution we sample from. The **p keyword argument denotes the probabilities** given to each element in the input distribution. Note that the list of probabilities for **p must sum to 1**.\n",
    "\n",
    "In the example, we set p such that 'red' has a probability of 0.8 of being chosen, 'blue' has a probability of 0.19, and 'green' has a probability of 0.01. When p is not set, the probabilities are equal for each element in the distribution (and sum to 1)."
   ]
  },
  {
   "cell_type": "markdown",
   "id": "f68fed1d",
   "metadata": {},
   "source": [
    "## Time to Code!"
   ]
  },
  {
   "cell_type": "code",
   "execution_count": 43,
   "id": "fea0d01e",
   "metadata": {},
   "outputs": [
    {
     "name": "stdout",
     "output_type": "stream",
     "text": [
      "4\n",
      "array([[3, 4, 6, 7, 5],\n",
      "       [7, 3, 8, 6, 4],\n",
      "       [5, 3, 7, 4, 5]])\n"
     ]
    }
   ],
   "source": [
    "# CODE HERE\n",
    "\n",
    "random1 = np.random.randint(5)\n",
    "\n",
    "random_arr = np.random.randint(3, high = 10, size = (3, 5))\n",
    "\n",
    "print(repr(random1))\n",
    "print(repr(random_arr))"
   ]
  },
  {
   "cell_type": "code",
   "execution_count": 44,
   "id": "d7dadcd3",
   "metadata": {},
   "outputs": [
    {
     "name": "stdout",
     "output_type": "stream",
     "text": [
      "array([ 0.65711731, -2.08709597, -0.7084259 ,  1.13438201, -1.32554341])\n"
     ]
    }
   ],
   "source": [
    "random_uniform  = np.random.uniform(low = -2.5, high = 1.5, size = (5))\n",
    "\n",
    "print(repr(random_uniform))"
   ]
  },
  {
   "cell_type": "code",
   "execution_count": 45,
   "id": "4a67e03a",
   "metadata": {},
   "outputs": [
    {
     "name": "stdout",
     "output_type": "stream",
     "text": [
      "array([[-0.42081263,  0.61136266, -0.40510445, -0.95821975, -0.34936146],\n",
      "       [ 1.9556739 , -1.91058622,  2.82045494,  7.80930762,  4.59715456],\n",
      "       [ 1.32857557, -1.10670137, -0.61505403,  7.9235911 ,  2.17782714],\n",
      "       [-0.22948476,  2.6682042 ,  9.35089298,  2.42055633,  4.16021088],\n",
      "       [ 3.05059612,  0.76712554, -1.99881369,  0.77730047,  1.26887018],\n",
      "       [ 4.05318117,  4.93644195,  5.25885728,  2.99955564,  5.09799407],\n",
      "       [-0.64039279,  6.38503854,  3.79525437,  0.95667508,  3.70981351],\n",
      "       [ 1.735499  ,  5.96070286,  7.31935886,  9.64951392, -2.88773717],\n",
      "       [-3.05439832,  0.23436948,  2.56012974,  5.06659122,  3.10472232],\n",
      "       [-5.07770426,  0.92828596,  4.89791125,  2.80533157,  4.66703913]])\n"
     ]
    }
   ],
   "source": [
    "random_norm = np.random.normal(loc = 2.0, scale = 3.5, size = (10, 5))\n",
    "\n",
    "print(repr(random_norm))"
   ]
  },
  {
   "cell_type": "code",
   "execution_count": 46,
   "id": "1274ff7e",
   "metadata": {},
   "outputs": [
    {
     "name": "stdout",
     "output_type": "stream",
     "text": [
      "'a'\n"
     ]
    }
   ],
   "source": [
    "choices = ['a', 'b', 'c', 'd']\n",
    "\n",
    "choice = np.random.choice(choices, p = [0.5, 0.1, 0.2, 0.2])\n",
    "\n",
    "print(repr(choice))"
   ]
  },
  {
   "cell_type": "code",
   "execution_count": 47,
   "id": "6941586a",
   "metadata": {},
   "outputs": [
    {
     "name": "stdout",
     "output_type": "stream",
     "text": [
      "array([1, 2, 3, 4, 5])\n",
      "array([5, 3, 4, 2, 1])\n"
     ]
    }
   ],
   "source": [
    "arr = np.arange(1, 6)\n",
    "\n",
    "print(repr(arr))\n",
    "\n",
    "np.random.shuffle(arr)\n",
    "\n",
    "print(repr(arr))"
   ]
  },
  {
   "cell_type": "markdown",
   "id": "2d79721f",
   "metadata": {},
   "source": [
    "# 5. Indexing\n",
    "## Index into NumPy arrays to extract data and array slices.\n",
    "\n",
    "### We'll cover the following\n",
    "\n",
    "### Chapter Goals:\n",
    "* A. Array accessing\n",
    "* B. Slicing\n",
    "* C. Argmin and argmax\n",
    "* Time to Code!"
   ]
  },
  {
   "cell_type": "markdown",
   "id": "aba43034",
   "metadata": {},
   "source": [
    "## A. Array accessing\n",
    "Accessing NumPy arrays is identical to accessing Python lists. For multi-dimensional arrays, it is equivalent to accessing Python lists of lists.\n",
    "\n",
    "The code below shows example accesses of NumPy arrays."
   ]
  },
  {
   "cell_type": "code",
   "execution_count": 48,
   "id": "dea6c3c7",
   "metadata": {},
   "outputs": [
    {
     "name": "stdout",
     "output_type": "stream",
     "text": [
      "1\n",
      "5\n",
      "array([6, 3])\n"
     ]
    }
   ],
   "source": [
    "arr = np.array([1, 2, 3, 4, 5])\n",
    "print(arr[0])\n",
    "print(arr[4])\n",
    "\n",
    "arr = np.array([[6, 3], [0, 2]])\n",
    "# Subarray\n",
    "print(repr(arr[0]))"
   ]
  },
  {
   "cell_type": "markdown",
   "id": "ffbb170c",
   "metadata": {},
   "source": [
    "## B. Slicing\n",
    "NumPy arrays also support slicing. Similar to Python, we use the colon operator (i.e. **arr[:]**) for slicing. We can also use negative indexing to slice in the backwards direction.\n",
    "\n",
    "The code below shows example slices of a 1-D NumPy array."
   ]
  },
  {
   "cell_type": "code",
   "execution_count": 49,
   "id": "12e27cc6",
   "metadata": {},
   "outputs": [
    {
     "name": "stdout",
     "output_type": "stream",
     "text": [
      "array([1, 2, 3, 4, 5])\n",
      "array([2, 3, 4, 5])\n",
      "array([3, 4])\n",
      "array([1, 2, 3, 4])\n",
      "array([4, 5])\n"
     ]
    }
   ],
   "source": [
    "arr = np.array([1, 2, 3, 4, 5])\n",
    "print(repr(arr[:]))\n",
    "print(repr(arr[1:]))\n",
    "print(repr(arr[2:4]))\n",
    "print(repr(arr[:-1]))\n",
    "print(repr(arr[-2:]))"
   ]
  },
  {
   "cell_type": "markdown",
   "id": "c8285d2c",
   "metadata": {},
   "source": [
    "For multi-dimensional arrays, we can use a comma to separate slices across each dimension.\n",
    "\n",
    "The code below shows example slices of a 2-D NumPy array."
   ]
  },
  {
   "cell_type": "code",
   "execution_count": 50,
   "id": "0544044d",
   "metadata": {},
   "outputs": [
    {
     "name": "stdout",
     "output_type": "stream",
     "text": [
      "array([[1, 2, 3],\n",
      "       [4, 5, 6],\n",
      "       [7, 8, 9]])\n",
      "array([[4, 5, 6],\n",
      "       [7, 8, 9]])\n",
      "array([3, 6, 9])\n",
      "array([[2, 3],\n",
      "       [5, 6],\n",
      "       [8, 9]])\n",
      "array([[2, 3]])\n",
      "array([2, 3])\n"
     ]
    }
   ],
   "source": [
    "arr = np.array([[1, 2, 3],\n",
    "                [4, 5, 6],\n",
    "                [7, 8, 9]])\n",
    "print(repr(arr[:]))\n",
    "print(repr(arr[1:]))\n",
    "print(repr(arr[:, -1]))\n",
    "print(repr(arr[:, 1:]))\n",
    "print(repr(arr[0:1, 1:]))\n",
    "print(repr(arr[0, 1:]))"
   ]
  },
  {
   "cell_type": "markdown",
   "id": "f77e2251",
   "metadata": {},
   "source": [
    "## C. Argmin and argmax#\n",
    "In addition to accessing and slicing arrays, it is useful to figure out the actual indexes of the minimum and maximum elements. To do this, we use the np.argmin and np.argmax functions.\n",
    "\n",
    "The code below shows example usages of **np.argmin** and **np.argmax**. Note that the index of element -6 is index 5 in the flattened version of arr."
   ]
  },
  {
   "cell_type": "code",
   "execution_count": 51,
   "id": "0b1962be",
   "metadata": {},
   "outputs": [
    {
     "name": "stdout",
     "output_type": "stream",
     "text": [
      "2\n",
      "1\n",
      "5\n"
     ]
    }
   ],
   "source": [
    "arr = np.array([[-2, -1, -3],\n",
    "                [4, 5, -6],\n",
    "                [-3, 9, 1]])\n",
    "print(np.argmin(arr[0]))\n",
    "print(np.argmax(arr[2]))\n",
    "print(np.argmin(arr))"
   ]
  },
  {
   "cell_type": "markdown",
   "id": "377b4397",
   "metadata": {},
   "source": [
    "The np.argmin and np.argmax functions take the same arguments. The required argument is the input array and the axis keyword argument specifies which dimension to apply the operation on.\n",
    "\n",
    "The code below shows how the axis keyword argument is used for these functions."
   ]
  },
  {
   "cell_type": "code",
   "execution_count": 52,
   "id": "ce336379",
   "metadata": {},
   "outputs": [
    {
     "name": "stdout",
     "output_type": "stream",
     "text": [
      "array([2, 0, 1], dtype=int64)\n",
      "array([2, 2, 0], dtype=int64)\n",
      "array([1, 1, 1], dtype=int64)\n"
     ]
    }
   ],
   "source": [
    "arr = np.array([[-2, -1, -3],\n",
    "                [4, 5, -6],\n",
    "                [-3, 9, 1]])\n",
    "print(repr(np.argmin(arr, axis=0)))\n",
    "print(repr(np.argmin(arr, axis=1)))\n",
    "print(repr(np.argmax(arr, axis=-1)))"
   ]
  },
  {
   "cell_type": "markdown",
   "id": "506893a3",
   "metadata": {},
   "source": [
    "In our example, using **axis=0** meant the function found the index of the minimum row element for each column. When we used **axis=1**, the function found the index of the minimum column element for each row.\n",
    "\n",
    "Setting axis to **-1** just means we apply the function across the **last dimension**. In this case, **axis=-1** is equivalent to axis=1."
   ]
  },
  {
   "cell_type": "markdown",
   "id": "5b8e73f5",
   "metadata": {},
   "source": [
    "## Time to Code!"
   ]
  },
  {
   "cell_type": "code",
   "execution_count": 53,
   "id": "db17aa70",
   "metadata": {},
   "outputs": [],
   "source": [
    "# to get the 3rd element in the 2nd row of a 2D matrix\n",
    "\n",
    "def direct_index(data):\n",
    "    # CODE HERE\n",
    "    elem = data[1,2]\n",
    "    # or data[1][2]\n",
    "    return elem"
   ]
  },
  {
   "cell_type": "code",
   "execution_count": 54,
   "id": "63e43c91",
   "metadata": {},
   "outputs": [],
   "source": [
    "data = np.array([[8,10,3],\n",
    "                [2,4,5],\n",
    "                [4,7,8]])"
   ]
  },
  {
   "cell_type": "code",
   "execution_count": 55,
   "id": "d10d89a2",
   "metadata": {},
   "outputs": [
    {
     "data": {
      "text/plain": [
       "5"
      ]
     },
     "execution_count": 55,
     "metadata": {},
     "output_type": "execute_result"
    }
   ],
   "source": [
    "direct_index(data)"
   ]
  },
  {
   "cell_type": "markdown",
   "id": "8552a185",
   "metadata": {},
   "source": [
    "The next function, slice_data, will return two slices from the input data.\n",
    "\n",
    "The first slice will contain all the rows, but will skip the first element in each row. The second slice will contain all the elements of the first three rows except the last two elements.\n",
    "\n",
    "Set slice1 equal to the specified first slice. Remember that NumPy uses a comma to separate slices along different dimensions.\n",
    "\n",
    "Set slice2 equal to the specified second slice.\n",
    "\n",
    "Return a tuple containing slice1 and slice2, in that order."
   ]
  },
  {
   "cell_type": "code",
   "execution_count": 56,
   "id": "4ba3a90a",
   "metadata": {},
   "outputs": [],
   "source": [
    "def slice_data(data):\n",
    "    # CODE HERE\n",
    "    slice1 = data[:, 1:]\n",
    "\n",
    "    slice2 = data[:3, :-2]\n",
    "\n",
    "    return slice1, slice2"
   ]
  },
  {
   "cell_type": "code",
   "execution_count": 57,
   "id": "650db0ec",
   "metadata": {},
   "outputs": [
    {
     "data": {
      "text/plain": [
       "(array([[10,  3],\n",
       "        [ 4,  5],\n",
       "        [ 7,  8]]),\n",
       " array([[8],\n",
       "        [2],\n",
       "        [4]]))"
      ]
     },
     "execution_count": 57,
     "metadata": {},
     "output_type": "execute_result"
    }
   ],
   "source": [
    "slice_data(data)"
   ]
  },
  {
   "cell_type": "markdown",
   "id": "6366b490",
   "metadata": {},
   "source": [
    "The next function, argmin_data, will find minimum indexes in the input data.\n",
    "\n",
    "We can use np.argmin to find minimum points in the data array. First, we'll find the index of the overall minimum element.\n",
    "\n",
    "We can also return the indexes of each row's minimum element. This is equivalent to finding the minimum column for each row, which means our operation is done along axis 1.\n",
    "\n",
    "Set argmin_all equal to np.argmin with data as the only argument.\n",
    "\n",
    "Set argmin1 equal to np.argmin with data as the first argument and the specified axis keyword argument.\n",
    "\n",
    "Return a tuple containing argmin_all and argmin1, in that order."
   ]
  },
  {
   "cell_type": "code",
   "execution_count": 58,
   "id": "ab647af7",
   "metadata": {},
   "outputs": [],
   "source": [
    "def argmin_data(data):\n",
    "  # CODE HERE\n",
    "  argmin_all = np.argmin(data)\n",
    "  argmin1 = np.argmin(data, axis = 1)\n",
    "\n",
    "  return argmin_all, argmin1"
   ]
  },
  {
   "cell_type": "code",
   "execution_count": 59,
   "id": "01ea2889",
   "metadata": {},
   "outputs": [
    {
     "data": {
      "text/plain": [
       "(3, array([2, 0, 0], dtype=int64))"
      ]
     },
     "execution_count": 59,
     "metadata": {},
     "output_type": "execute_result"
    }
   ],
   "source": [
    "argmin_data(data)"
   ]
  },
  {
   "cell_type": "markdown",
   "id": "69136238",
   "metadata": {},
   "source": [
    "The final function, argmax_data, will find the index of each row's maximum element in data. Since there are only 2 dimensions in data, we can apply the operation along either axis 1 or -1.\n",
    "\n",
    "Set argmax_neg1 equal to np.argmax with data as the first argument and -1 as the axis keyword argument. Then return argmax_neg1.\n",
    "\n"
   ]
  },
  {
   "cell_type": "code",
   "execution_count": 60,
   "id": "21d750f8",
   "metadata": {},
   "outputs": [],
   "source": [
    "def argmax_data(data):\n",
    "    # CODE HERE\n",
    "    argmax_neg1 = np.argmax(data, axis = -1)\n",
    "\n",
    "    return argmax_neg1"
   ]
  },
  {
   "cell_type": "code",
   "execution_count": 61,
   "id": "116d9540",
   "metadata": {},
   "outputs": [
    {
     "data": {
      "text/plain": [
       "array([1, 2, 2], dtype=int64)"
      ]
     },
     "execution_count": 61,
     "metadata": {},
     "output_type": "execute_result"
    }
   ],
   "source": [
    "argmax_data(data)"
   ]
  },
  {
   "cell_type": "markdown",
   "id": "081a6579",
   "metadata": {},
   "source": [
    "# 6. Filtering\n",
    "## Filter NumPy data for specific values.\n",
    "\n",
    "### We'll cover the following\n",
    "\n",
    "### Chapter Goals:\n",
    "* A. Filtering data\n",
    "* B. Filtering in NumPy\n",
    "* C. Axis-wise filtering\n",
    "* Time to Code!"
   ]
  },
  {
   "cell_type": "markdown",
   "id": "98e1e5e0",
   "metadata": {},
   "source": [
    "## A. Filtering data\n",
    "Sometimes we have data that contains values we don't want to use. For example, when tracking the best hitters in baseball, we may want to only use the batting average data above .300. In this case, we should filter the overall data for only the values that we want.\n",
    "\n",
    "The key to filtering data is through basic relation operations, e.g. ==, >, etc. In NumPy, we can apply basic relation operations element-wise on arrays.\n",
    "\n",
    "The code below shows relation operations on NumPy arrays. The ~ operation represents a boolean negation, i.e. it flips each truth value in the array."
   ]
  },
  {
   "cell_type": "code",
   "execution_count": 62,
   "id": "f6092dca",
   "metadata": {},
   "outputs": [
    {
     "name": "stdout",
     "output_type": "stream",
     "text": [
      "array([[False, False,  True],\n",
      "       [False,  True, False],\n",
      "       [False, False, False]])\n",
      "array([[False,  True,  True],\n",
      "       [ True,  True, False],\n",
      "       [False, False,  True]])\n",
      "array([[ True,  True,  True],\n",
      "       [False,  True,  True],\n",
      "       [ True,  True, False]])\n",
      "array([[False, False, False],\n",
      "       [ True, False, False],\n",
      "       [False, False,  True]])\n"
     ]
    }
   ],
   "source": [
    "arr = np.array([[0, 2, 3],\n",
    "                [1, 3, -6],\n",
    "                [-3, -2, 1]])\n",
    "print(repr(arr == 3))\n",
    "print(repr(arr > 0))\n",
    "print(repr(arr != 1))\n",
    "# Negated from the previous step\n",
    "print(repr(~(arr != 1)))"
   ]
  },
  {
   "cell_type": "markdown",
   "id": "b39d4eb0",
   "metadata": {},
   "source": [
    "Something to note is that **np.nan** can't be used with any relation operation. Instead, we use **np.isnan** to filter for the location of np.nan.\n",
    "\n",
    "The code below uses **np.isnan** to determine which locations of the array **contain np.nan** values."
   ]
  },
  {
   "cell_type": "code",
   "execution_count": 63,
   "id": "ba2424de",
   "metadata": {},
   "outputs": [
    {
     "name": "stdout",
     "output_type": "stream",
     "text": [
      "array([[False, False,  True],\n",
      "       [False,  True, False],\n",
      "       [ True, False, False]])\n"
     ]
    }
   ],
   "source": [
    "arr = np.array([[0, 2, np.nan],\n",
    "                [1, np.nan, -6],\n",
    "                [np.nan, -2, 1]])\n",
    "print(repr(np.isnan(arr)))"
   ]
  },
  {
   "cell_type": "markdown",
   "id": "7589ac9d",
   "metadata": {},
   "source": [
    "## B. Filtering in NumPy\n",
    "The **np.where** function takes in a required first argument, which is a boolean array where True represents the locations of the elements we want to filter for. When the function is applied with only the first argument, it returns a tuple of 1-D arrays.\n",
    "\n",
    "The tuple will have size equal to the number of dimensions in the data, and each array represents the True indices for the corresponding dimension. Note that the arrays in the tuple will all have the same length, equal to the number of True elements in the input argument.\n",
    "\n",
    "The code below shows how to use np.where with a single argument."
   ]
  },
  {
   "cell_type": "code",
   "execution_count": 64,
   "id": "600528ea",
   "metadata": {},
   "outputs": [
    {
     "name": "stdout",
     "output_type": "stream",
     "text": [
      "(array([0, 2], dtype=int64),)\n",
      "(array([1, 3], dtype=int64),)\n",
      "array([0, 0, 1, 2], dtype=int64)\n",
      "array([1, 2, 0, 0], dtype=int64)\n",
      "array([ 2,  3,  1, -3])\n"
     ]
    }
   ],
   "source": [
    "print(repr(np.where([True, False, True])))\n",
    "\n",
    "arr = np.array([0, 3, 5, 3, 1])\n",
    "print(repr(np.where(arr == 3)))\n",
    "\n",
    "arr = np.array([[0, 2, 3],\n",
    "                [1, 0, 0],\n",
    "                [-3, 0, 0]])\n",
    "x_ind, y_ind = np.where(arr != 0)\n",
    "print(repr(x_ind)) # x indices of non-zero elements\n",
    "print(repr(y_ind)) # y indices of non-zero elements\n",
    "print(repr(arr[x_ind, y_ind]))"
   ]
  },
  {
   "cell_type": "markdown",
   "id": "62cd3ccc",
   "metadata": {},
   "source": [
    "The interesting thing about **np.where** is that it must be applied with exactly 1 or 3 arguments. When we use 3 arguments, the first argument is still the boolean array. However, the next two arguments represent the True replacement values and the False replacement values, respectively. The output of the function now becomes an array with the same shape as the first argument.\n",
    "\n",
    "The code below shows how to use **np.where** with **3** arguments."
   ]
  },
  {
   "cell_type": "code",
   "execution_count": 65,
   "id": "80830e99",
   "metadata": {},
   "outputs": [
    {
     "name": "stdout",
     "output_type": "stream",
     "text": [
      "array([[ 1, -5],\n",
      "       [-1,  4]])\n",
      "array([[-2, -5],\n",
      "       [ 3,  4]])\n",
      "array([[-2, -5],\n",
      "       [-1, -8]])\n"
     ]
    }
   ],
   "source": [
    "np_filter = np.array([[True, False], [False, True]])\n",
    "positives = np.array([[1, 2], [3, 4]])\n",
    "negatives = np.array([[-2, -5], [-1, -8]])\n",
    "print(repr(np.where(np_filter, positives, negatives)))\n",
    "\n",
    "np_filter = positives > 2\n",
    "print(repr(np.where(np_filter, positives, negatives)))\n",
    "\n",
    "np_filter = negatives > 0\n",
    "print(repr(np.where(np_filter, positives, negatives)))"
   ]
  },
  {
   "cell_type": "markdown",
   "id": "dd4b98c4",
   "metadata": {},
   "source": [
    "Note that our second and third arguments necessarily had the same shape as the first argument. However, if we wanted to use a constant replacement value, e.g. -1, we could incorporate broadcasting. Rather than using an entire array of the same value, we can just use the value itself as an argument.\n",
    "\n",
    "The code below showcases broadcasting with np.where."
   ]
  },
  {
   "cell_type": "code",
   "execution_count": 66,
   "id": "a407bbb0",
   "metadata": {},
   "outputs": [
    {
     "name": "stdout",
     "output_type": "stream",
     "text": [
      "array([[ 1, -1],\n",
      "       [-1,  4]])\n"
     ]
    }
   ],
   "source": [
    "np_filter = np.array([[True, False], [False, True]])\n",
    "positives = np.array([[1, 2], [3, 4]])\n",
    "print(repr(np.where(np_filter, positives, -1)))"
   ]
  },
  {
   "cell_type": "markdown",
   "id": "13d5eb60",
   "metadata": {},
   "source": [
    "## C. Axis-wise filtering\n",
    "If we wanted to filter based on rows or columns of data, we could use the np.any and np.all functions. Both functions take in the same arguments, and return a single boolean or a boolean array. The **required argument for both functions is a boolean array**.\n",
    "\n",
    "The code below shows usage of **np.any** and **np.all** with a **single argument**."
   ]
  },
  {
   "cell_type": "code",
   "execution_count": 67,
   "id": "0e03f6fa",
   "metadata": {},
   "outputs": [
    {
     "name": "stdout",
     "output_type": "stream",
     "text": [
      "array([[False, False, False],\n",
      "       [ True,  True, False],\n",
      "       [ True,  True,  True]])\n",
      "True\n",
      "False\n"
     ]
    }
   ],
   "source": [
    "arr = np.array([[-2, -1, -3],\n",
    "                [4, 5, -6],\n",
    "                [3, 9, 1]])\n",
    "print(repr(arr > 0))\n",
    "print(np.any(arr > 0))\n",
    "print(np.all(arr > 0))"
   ]
  },
  {
   "cell_type": "markdown",
   "id": "9708aa77",
   "metadata": {},
   "source": [
    "The np.any function is equivalent to performing a logical OR (||), while the np.all function is equivalent to a logical AND (&&) on the first argument. np.any returns true if even one of the elements in the array meets the condition and np.all returns true only if all the elements meet the condition. When only a single argument is passed in, the function is applied across the entire input array, so the returned value is a single boolean.\n",
    "\n",
    "However, if we use a multi-dimensional input and specify the axis keyword argument, the returned value will be an array. The axis argument has the same meaning as it did for np.argmin and np.argmax from the previous chapter. Using axis=0 means the function finds the index of the minimum row element for each column. When we used axis=1, the function finds the index of the minimum column element for each row.\n",
    "\n",
    "Setting axis to -1 just means we apply the function across the last dimension.\n",
    "\n",
    "The code below shows examples of using np.any and np.all with the axis keyword argument."
   ]
  },
  {
   "cell_type": "code",
   "execution_count": 68,
   "id": "77de3d5e",
   "metadata": {},
   "outputs": [
    {
     "name": "stdout",
     "output_type": "stream",
     "text": [
      "array([[False, False, False],\n",
      "       [ True,  True, False],\n",
      "       [ True,  True,  True]])\n",
      "array([ True,  True,  True])\n",
      "array([False,  True,  True])\n",
      "array([False, False,  True])\n"
     ]
    }
   ],
   "source": [
    "arr = np.array([[-2, -1, -3],\n",
    "                [4, 5, -6],\n",
    "                [3, 9, 1]])\n",
    "print(repr(arr > 0))\n",
    "print(repr(np.any(arr > 0, axis=0)))\n",
    "print(repr(np.any(arr > 0, axis=1)))\n",
    "print(repr(np.all(arr > 0, axis=1)))"
   ]
  },
  {
   "attachments": {
    "image.png": {
     "image/png": "[encoded data removed]"
    }
   },
   "cell_type": "markdown",
   "id": "80a28ed7",
   "metadata": {},
   "source": [
    "![image.png](attachment:image.png)"
   ]
  },
  {
   "cell_type": "code",
   "execution_count": 69,
   "id": "68c27ab4",
   "metadata": {},
   "outputs": [
    {
     "name": "stdout",
     "output_type": "stream",
     "text": [
      "[False  True  True]\n",
      "array([[ 4,  5, -6],\n",
      "       [ 3,  9,  1]])\n"
     ]
    }
   ],
   "source": [
    "arr = np.array([[-2, -1, -3],\n",
    "                [4, 5, -6],\n",
    "                [3, 9, 1]])\n",
    "has_positive = np.any(arr > 0, axis=1)\n",
    "print(has_positive)\n",
    "print(repr(arr[np.where(has_positive)]))"
   ]
  },
  {
   "cell_type": "markdown",
   "id": "587c40af",
   "metadata": {},
   "source": [
    "## Time to Code!"
   ]
  },
  {
   "cell_type": "code",
   "execution_count": 70,
   "id": "8f99b4a5",
   "metadata": {},
   "outputs": [],
   "source": [
    "def get_positives(data):\n",
    "    # CODE HERE\n",
    "    x_ind, y_ind = np.where(data > 0)\n",
    "\n",
    "    return data[x_ind, y_ind]"
   ]
  },
  {
   "cell_type": "code",
   "execution_count": 71,
   "id": "2aa7b40c",
   "metadata": {},
   "outputs": [],
   "source": [
    "data = np.array([[-2, -1, -3],\n",
    "                [4, 5, -6],\n",
    "                [3, 9, 1]])"
   ]
  },
  {
   "cell_type": "code",
   "execution_count": 72,
   "id": "c53e24b3",
   "metadata": {},
   "outputs": [
    {
     "data": {
      "text/plain": [
       "array([4, 5, 3, 9, 1])"
      ]
     },
     "execution_count": 72,
     "metadata": {},
     "output_type": "execute_result"
    }
   ],
   "source": [
    "get_positives(data)"
   ]
  },
  {
   "cell_type": "code",
   "execution_count": 73,
   "id": "4eed4240",
   "metadata": {},
   "outputs": [],
   "source": [
    "def replace_zeros(data):\n",
    "    # CODE HERE\n",
    "    zeros = np.zeros_like(data)\n",
    "\n",
    "    zero_replace = np.where(data > 0, data, zeros)\n",
    "\n",
    "    return zero_replace"
   ]
  },
  {
   "cell_type": "code",
   "execution_count": 74,
   "id": "a77f5601",
   "metadata": {},
   "outputs": [
    {
     "data": {
      "text/plain": [
       "array([[0, 0, 0],\n",
       "       [4, 5, 0],\n",
       "       [3, 9, 1]])"
      ]
     },
     "execution_count": 74,
     "metadata": {},
     "output_type": "execute_result"
    }
   ],
   "source": [
    "replace_zeros(data)"
   ]
  },
  {
   "cell_type": "markdown",
   "id": "aca328bd",
   "metadata": {},
   "source": [
    "### Another solution by using broadcasting."
   ]
  },
  {
   "cell_type": "code",
   "execution_count": 75,
   "id": "d34ca3f0",
   "metadata": {},
   "outputs": [],
   "source": [
    "def replace_zeros(data):\n",
    "    # CODE HERE\n",
    "    zero_replace = np.where(data > 0, data, 0)\n",
    "\n",
    "    return zero_replace"
   ]
  },
  {
   "cell_type": "code",
   "execution_count": 76,
   "id": "77fc3f9d",
   "metadata": {},
   "outputs": [
    {
     "data": {
      "text/plain": [
       "array([[0, 0, 0],\n",
       "       [4, 5, 0],\n",
       "       [3, 9, 1]])"
      ]
     },
     "execution_count": 76,
     "metadata": {},
     "output_type": "execute_result"
    }
   ],
   "source": [
    "replace_zeros(data)"
   ]
  },
  {
   "cell_type": "code",
   "execution_count": 77,
   "id": "db8c3ac4",
   "metadata": {},
   "outputs": [],
   "source": [
    "def replace_neg_one(data):\n",
    "    # CODE HERE\n",
    "    neg_one_replace = np.where(data > 0, data, -1)\n",
    "\n",
    "    return neg_one_replace"
   ]
  },
  {
   "cell_type": "code",
   "execution_count": 78,
   "id": "4972a95b",
   "metadata": {},
   "outputs": [
    {
     "data": {
      "text/plain": [
       "array([[-1, -1, -1],\n",
       "       [ 4,  5, -1],\n",
       "       [ 3,  9,  1]])"
      ]
     },
     "execution_count": 78,
     "metadata": {},
     "output_type": "execute_result"
    }
   ],
   "source": [
    "replace_neg_one(data)"
   ]
  },
  {
   "cell_type": "markdown",
   "id": "40b9ac01",
   "metadata": {},
   "source": [
    "Our final function, coin_flip_filter will apply a filter using a boolean array as the condition. We'll first create a boolean coin flip array with the same shape as data.\n",
    "\n",
    "Then we filter data using bool_coin_flips as the condition. For the False values in bool_coin_flips, we replace the corresponding index in data with a 1.\n",
    "\n",
    "Set coin_flips equal to np.random.randint with 2 as the first argument and data.shape as the size keyword argument.\n",
    "\n",
    "Set bool_coin_flips equal to coin_flips, cast as np.bool (using the np.astype function).\n",
    "\n",
    "Set one_replace equal to np.where with bool_coin_flips, data, and 1 as the respective arguments.\n",
    "\n",
    "Return one_replace."
   ]
  },
  {
   "cell_type": "code",
   "execution_count": 79,
   "id": "c940ec35",
   "metadata": {},
   "outputs": [],
   "source": [
    "def coin_flip_filter(data):\n",
    "    # CODE HERE\n",
    "    coin_flips = np.random.randint(2, size=data.shape)\n",
    "    bool_coin_flips = coin_flips.astype(bool)\n",
    "    one_replace = np.where(bool_coin_flips, data, 1)\n",
    "    return one_replace"
   ]
  },
  {
   "cell_type": "code",
   "execution_count": 80,
   "id": "9f8709d7",
   "metadata": {},
   "outputs": [
    {
     "data": {
      "text/plain": [
       "array([[ 1, 20,  4,  4,  1],\n",
       "       [ 1,  2,  1,  1,  2],\n",
       "       [ 1,  8,  1,  2,  2],\n",
       "       [ 1,  2,  2,  1,  7]])"
      ]
     },
     "execution_count": 80,
     "metadata": {},
     "output_type": "execute_result"
    }
   ],
   "source": [
    "data = np.array([[19, 20,  4, 4, 1],\n",
    "                 [ 9, 2,  2,  2,  2],\n",
    "                 [ 0, 8, 12,  2, 2],\n",
    "                 [ 1, 2, 2,  2,  7]])\n",
    "\n",
    "coin_flip_filter(data)"
   ]
  },
  {
   "cell_type": "markdown",
   "id": "82411ce5",
   "metadata": {},
   "source": [
    "# 7. Statistics\n",
    "## Learn how to apply statistical metrics to NumPy data.\n",
    "\n",
    "### We'll cover the following\n",
    "\n",
    "### Chapter Goals:\n",
    "* A. Analysis\n",
    "* B. Statistical metrics\n",
    "* Time to Code!"
   ]
  },
  {
   "cell_type": "markdown",
   "id": "e3211e21",
   "metadata": {},
   "source": [
    "## A. Analysis\n",
    "\n",
    "The code below shows example usages of the min and max functions.\n",
    "> axis values:\n",
    "* 0 - Columns\n",
    "* 1 - Rows"
   ]
  },
  {
   "cell_type": "code",
   "execution_count": 81,
   "id": "02b0051b",
   "metadata": {},
   "outputs": [
    {
     "name": "stdout",
     "output_type": "stream",
     "text": [
      "-60\n",
      "72\n",
      "array([ -3,  -2, -60])\n",
      "array([72,  3,  4])\n"
     ]
    }
   ],
   "source": [
    "arr = np.array([[0, 72, 3],\n",
    "                [1, 3, -60],\n",
    "                [-3, -2, 4]])\n",
    "print(arr.min())\n",
    "print(arr.max())\n",
    "\n",
    "print(repr(arr.min(axis=0)))\n",
    "print(repr(arr.max(axis=-1)))"
   ]
  },
  {
   "cell_type": "markdown",
   "id": "d1790bc1",
   "metadata": {},
   "source": [
    "## B. Statistical metrics\n",
    "NumPy also provides basic statistical functions such as **np.mean**, **np.var**, and **np.median**, to calculate the mean, variance, and median of the data, respectively.\n",
    "\n",
    "The code below shows how to obtain basic statistics with NumPy. **Note that np.median applied without axis takes the median of the flattened array**."
   ]
  },
  {
   "cell_type": "code",
   "execution_count": 82,
   "id": "8cf57d08",
   "metadata": {},
   "outputs": [
    {
     "name": "stdout",
     "output_type": "stream",
     "text": [
      "2.0\n",
      "977.3333333333334\n",
      "1.0\n",
      "array([ 3.,  1., -2.])\n"
     ]
    }
   ],
   "source": [
    "arr = np.array([[0, 72, 3],\n",
    "                [1, 3, -60],\n",
    "                [-3, -2, 4]])\n",
    "print(np.mean(arr))\n",
    "print(np.var(arr))\n",
    "print(np.median(arr))\n",
    "print(repr(np.median(arr, axis=-1)))"
   ]
  },
  {
   "cell_type": "markdown",
   "id": "b84b7b22",
   "metadata": {},
   "source": [
    "## Time to Code!"
   ]
  },
  {
   "cell_type": "code",
   "execution_count": 83,
   "id": "a0a5e7e9",
   "metadata": {},
   "outputs": [],
   "source": [
    "def get_min_max(data):\n",
    "    # CODE HERE\n",
    "    overall_min = data.min()\n",
    "    overall_max = data.max()\n",
    "\n",
    "    return overall_min, overall_max"
   ]
  },
  {
   "cell_type": "code",
   "execution_count": 84,
   "id": "87a90d57",
   "metadata": {},
   "outputs": [],
   "source": [
    "data = np.array([[0, 72, 3],\n",
    "                [1, 3, -60],\n",
    "                [-3, -2, 4]])"
   ]
  },
  {
   "cell_type": "code",
   "execution_count": 85,
   "id": "6e35c468",
   "metadata": {},
   "outputs": [
    {
     "data": {
      "text/plain": [
       "(-60, 72)"
      ]
     },
     "execution_count": 85,
     "metadata": {},
     "output_type": "execute_result"
    }
   ],
   "source": [
    "get_min_max(data)"
   ]
  },
  {
   "cell_type": "code",
   "execution_count": 86,
   "id": "442d042d",
   "metadata": {},
   "outputs": [],
   "source": [
    "def col_min(data):\n",
    "    # CODE HERE\n",
    "    min0 = data.min(axis = 0)\n",
    "\n",
    "    return min0"
   ]
  },
  {
   "cell_type": "code",
   "execution_count": 87,
   "id": "83f6012e",
   "metadata": {},
   "outputs": [
    {
     "data": {
      "text/plain": [
       "array([ -3,  -2, -60])"
      ]
     },
     "execution_count": 87,
     "metadata": {},
     "output_type": "execute_result"
    }
   ],
   "source": [
    "col_min(data)"
   ]
  },
  {
   "cell_type": "code",
   "execution_count": 88,
   "id": "760d677c",
   "metadata": {},
   "outputs": [],
   "source": [
    "def basic_stats(data):\n",
    "\n",
    "    mean = np.mean(data)\n",
    "    median = np.median(data)\n",
    "    var = np.var(data)\n",
    "\n",
    "    return mean, median, var"
   ]
  },
  {
   "cell_type": "code",
   "execution_count": 89,
   "id": "58f16246",
   "metadata": {},
   "outputs": [
    {
     "data": {
      "text/plain": [
       "(2.0, 1.0, 977.3333333333334)"
      ]
     },
     "execution_count": 89,
     "metadata": {},
     "output_type": "execute_result"
    }
   ],
   "source": [
    "basic_stats(data)"
   ]
  },
  {
   "cell_type": "markdown",
   "id": "824f9bb3",
   "metadata": {},
   "source": [
    "# 8. Aggregation\n",
    "## Use aggregation techniques to combine NumPy data and arrays.\n",
    "\n",
    "## We'll cover the following\n",
    "\n",
    "### Chapter Goals:\n",
    "* A. Summation\n",
    "* B. Concatenation\n",
    "* Time to Code!"
   ]
  },
  {
   "cell_type": "markdown",
   "id": "b0d8e5b3",
   "metadata": {},
   "source": [
    "# A. Summation\n",
    "As we know how to calculate the sum of individual values between multiple arrays. To sum the values within a single array, we use the np.sum function.\n",
    "\n",
    "The function takes in a NumPy array as its required argument, and uses the axis keyword argument. If the axis keyword argument is not specified, np.sum returns the overall sum of the array. The code below shows how to use np.sum"
   ]
  },
  {
   "cell_type": "code",
   "execution_count": 90,
   "id": "e5af172d",
   "metadata": {},
   "outputs": [
    {
     "name": "stdout",
     "output_type": "stream",
     "text": [
      "18\n",
      "array([ -2,  73, -53])\n",
      "array([ 75, -56,  -1])\n"
     ]
    }
   ],
   "source": [
    "arr = np.array([[0, 72, 3],\n",
    "                [1, 3, -60],\n",
    "                [-3, -2, 4]])\n",
    "print(np.sum(arr))\n",
    "print(repr(np.sum(arr, axis=0)))\n",
    "print(repr(np.sum(arr, axis=1)))"
   ]
  },
  {
   "cell_type": "markdown",
   "id": "d9e50d31",
   "metadata": {},
   "source": [
    "In addition to regular sums, NumPy can perform cumulative sums using np.cumsum. Like np.sum, np.cumsum also takes in a NumPy array as a required argument and uses the axis argument. If the axis keyword argument is not specified, np.cumsum will return the cumulative sums for the flattened array. The code below shows how to use np.cumsum. For a 2-D NumPy array, setting axis=0 returns an array with cumulative sums across each column, while axis=1 returns the array with cumulative sums across each row. Not setting axis returns a cumulative sum across all the values of the flattened array."
   ]
  },
  {
   "cell_type": "code",
   "execution_count": 91,
   "id": "bebf2019",
   "metadata": {},
   "outputs": [
    {
     "name": "stdout",
     "output_type": "stream",
     "text": [
      "array([ 0, 72, 75, 76, 79, 19, 16, 14, 18])\n",
      "array([[  0,  72,   3],\n",
      "       [  1,  75, -57],\n",
      "       [ -2,  73, -53]])\n",
      "array([[  0,  72,  75],\n",
      "       [  1,   4, -56],\n",
      "       [ -3,  -5,  -1]])\n"
     ]
    }
   ],
   "source": [
    "arr = np.array([[0, 72, 3],\n",
    "                [1, 3, -60],\n",
    "                [-3, -2, 4]])\n",
    "print(repr(np.cumsum(arr)))\n",
    "print(repr(np.cumsum(arr, axis=0)))\n",
    "print(repr(np.cumsum(arr, axis=1)))"
   ]
  },
  {
   "cell_type": "markdown",
   "id": "46e3aed6",
   "metadata": {},
   "source": [
    "# B. Concatenation\n",
    "An important part of aggregation is combining multiple datasets. In NumPy, this equates to combining multiple arrays into one. The function we use to do this is np.concatenate. Like the summation functions, np.concatenate uses the axis keyword argument. However, the default value for axis is 0 (i.e. dimension 0).\n",
    "\n",
    "Furthermore, the required argument for np.concatenate is a list of arrays, which the function combines into a single array.\n",
    "\n",
    "The code below shows how to use np.concatenate, which aggregates arrays by joining them along a specific dimension. For 2-D arrays, not setting the axis argument (defaults to axis=0) concatenates the arrays vertically. When we set axis=1, the arrays are concatenated horizontally."
   ]
  },
  {
   "cell_type": "code",
   "execution_count": 92,
   "id": "b4eefea9",
   "metadata": {},
   "outputs": [
    {
     "name": "stdout",
     "output_type": "stream",
     "text": [
      "array([[  0,  72,   3],\n",
      "       [  1,   3, -60],\n",
      "       [ -3,  -2,   4],\n",
      "       [-15,   6,   1],\n",
      "       [  8,   9,  -4],\n",
      "       [  5, -21,  18]])\n",
      "array([[  0,  72,   3, -15,   6,   1],\n",
      "       [  1,   3, -60,   8,   9,  -4],\n",
      "       [ -3,  -2,   4,   5, -21,  18]])\n",
      "array([[-15,   6,   1,   0,  72,   3],\n",
      "       [  8,   9,  -4,   1,   3, -60],\n",
      "       [  5, -21,  18,  -3,  -2,   4]])\n"
     ]
    }
   ],
   "source": [
    "arr1 = np.array([[0, 72, 3],\n",
    "                 [1, 3, -60],\n",
    "                 [-3, -2, 4]])\n",
    "arr2 = np.array([[-15, 6, 1],\n",
    "                 [8, 9, -4],\n",
    "                 [5, -21, 18]])\n",
    "print(repr(np.concatenate([arr1, arr2])))\n",
    "print(repr(np.concatenate([arr1, arr2], axis=1)))\n",
    "print(repr(np.concatenate([arr2, arr1], axis=1)))"
   ]
  },
  {
   "cell_type": "markdown",
   "id": "658c5683",
   "metadata": {},
   "source": [
    "# Time to Code!\n",
    "Each coding exercise in this chapter will be to complete a small function that takes in 2-D NumPy matrices as input. "
   ]
  },
  {
   "cell_type": "markdown",
   "id": "a20d4920",
   "metadata": {},
   "source": [
    "The first function to complete is get_sums, which returns the overall sum and column sums of data.\n",
    "\n",
    "Set total_sum equal to np.sum applied to data.\n",
    "\n",
    "Set col_sum equal to np.sum applied to >data, with axis set to 0. Return a tuple of total_sum and col_sum, in that order."
   ]
  },
  {
   "cell_type": "code",
   "execution_count": 93,
   "id": "333f27ae",
   "metadata": {},
   "outputs": [],
   "source": [
    "def get_sums(data):\n",
    "    # CODE HERE\n",
    "    total_sum = np.sum(data)\n",
    "    col_sum = np.sum(data, axis = 0)\n",
    "\n",
    "    return total_sum, col_sum"
   ]
  },
  {
   "cell_type": "code",
   "execution_count": 94,
   "id": "0bd7880f",
   "metadata": {},
   "outputs": [
    {
     "data": {
      "text/plain": [
       "(18, array([ -2,  73, -53]))"
      ]
     },
     "execution_count": 94,
     "metadata": {},
     "output_type": "execute_result"
    }
   ],
   "source": [
    "get_sums(data)"
   ]
  },
  {
   "cell_type": "markdown",
   "id": "84362c1c",
   "metadata": {},
   "source": [
    "The next function to complete is get_cumsum, which returns the cumulative sums for each row of data.\n",
    "\n",
    "Set row_cumsum equal to np.cumsum applied to data with axis set to 1.\n",
    "\n",
    "Then return row_cumsum."
   ]
  },
  {
   "cell_type": "code",
   "execution_count": 95,
   "id": "4711fcf9",
   "metadata": {},
   "outputs": [],
   "source": [
    "def get_cumsum(data):\n",
    "    # CODE HERE\n",
    "    row_cumsum = np.cumsum(data, axis = 1)\n",
    "\n",
    "    return row_cumsum"
   ]
  },
  {
   "cell_type": "code",
   "execution_count": 96,
   "id": "48345ae0",
   "metadata": {},
   "outputs": [
    {
     "data": {
      "text/plain": [
       "array([[  0,  72,  75],\n",
       "       [  1,   4, -56],\n",
       "       [ -3,  -5,  -1]])"
      ]
     },
     "execution_count": 96,
     "metadata": {},
     "output_type": "execute_result"
    }
   ],
   "source": [
    "get_cumsum(data)"
   ]
  },
  {
   "cell_type": "markdown",
   "id": "536c3852",
   "metadata": {},
   "source": [
    "The final function, concat_arrays, takes in two 2-D NumPy arrays as input. It returns the column-wise and row-wise concatenations of the input arrays.\n",
    "\n",
    "Set col_concat equal to np.concatenate applied to a list of data1, data2, in that order.\n",
    "\n",
    "Set row_concat equal to np.concatenate applied to a list of data1, data2, in that order. The axis keyword argument should be set to 1.\n",
    "\n",
    "Return a tuple containing col_concat and row_concat, in that order."
   ]
  },
  {
   "cell_type": "code",
   "execution_count": 97,
   "id": "e9079de7",
   "metadata": {},
   "outputs": [],
   "source": [
    "def concat_arrays(data1, data2):\n",
    "    # CODE HERE\n",
    "    col_concat = np.concatenate([data1, data2])\n",
    "    row_concat = np.concatenate([data1, data2], axis = 1)\n",
    "\n",
    "    return col_concat, row_concat"
   ]
  },
  {
   "cell_type": "markdown",
   "id": "e54afd56",
   "metadata": {},
   "source": [
    "# 9. Saving Data\n",
    "## Learn how to save and load NumPy data.\n",
    "\n",
    "## We'll cover the following\n",
    "\n",
    "### Chapter Goals:\n",
    "* A. Saving\n",
    "* B. Loading\n",
    "* Time to Code!"
   ]
  },
  {
   "cell_type": "markdown",
   "id": "a499f54b",
   "metadata": {},
   "source": [
    "## A. Saving\n",
    "After performing data manipulation with NumPy, it's a good idea to save the data in a file for future use. To do this, we use the np.save function.\n",
    "\n",
    "The first argument for the function is the name/path of the file we want to save our data to. The file name/path should have a \".npy\" extension. If it does not, then np.save will append the \".npy\" extension to it.\n",
    "\n",
    "The second argument for np.save is the NumPy data we want to save. The function has no return value. Also, the format of the \".npy\" files when viewed with a text editor is largely gibberish when viewed with a text editor.\n",
    "\n",
    "If np.save is called with the name of a file that already exists, it will overwrite the previous file.\n",
    "\n",
    "The code below shows examples of saving NumPy data."
   ]
  },
  {
   "cell_type": "code",
   "execution_count": 98,
   "id": "d84eee97",
   "metadata": {},
   "outputs": [],
   "source": [
    "arr = np.array([1, 2, 3])\n",
    "# Saves to 'arr.npy'\n",
    "np.save('arr.npy', arr)\n",
    "# Also saves to 'arr.npy'\n",
    "np.save('arr', arr)"
   ]
  },
  {
   "cell_type": "markdown",
   "id": "a34feb4c",
   "metadata": {},
   "source": [
    "# B. Loading\n",
    "After saving our data, we can load it again using np.load. The function's required argument is the file name/path that contains the saved data. It returns the NumPy data exactly as it was saved.\n",
    "\n",
    "Note that np.load will not append the \".npy\" extension to the file name/path if it is not there.\n",
    "\n",
    "The code below shows how to use np.load to load NumPy data."
   ]
  },
  {
   "cell_type": "code",
   "execution_count": 99,
   "id": "d60893ac",
   "metadata": {},
   "outputs": [
    {
     "name": "stdout",
     "output_type": "stream",
     "text": [
      "array([1, 2, 3])\n"
     ]
    }
   ],
   "source": [
    "arr = np.array([1, 2, 3])\n",
    "np.save('arr.npy', arr)\n",
    "load_arr = np.load('arr.npy')\n",
    "print(repr(load_arr))\n",
    "\n",
    "# Will result in a FileNotFoundError: If we uncomment line 7 and run again.\n",
    "#load_arr = np.load('arr')"
   ]
  },
  {
   "cell_type": "markdown",
   "id": "702e72ad",
   "metadata": {},
   "source": [
    "# Time to Code!\n",
    "The coding exercise in this chapter will require you to complete the save_points function, which will save some randomly generated 2-D points in a file.\n",
    "\n",
    "You'll generate 100 (x, y) points from a uniform distribution in the range [-2.5, 2.5), then save the points to save_file.\n",
    "\n",
    "Set points equal to np.random.uniform, with the low and high keyword arguments representing the lower and upper ends of the range. The size keyword argument should be set to (100, 2).\n",
    "\n",
    "Call np.save with save_file as the first argument and points as the second argument."
   ]
  },
  {
   "cell_type": "code",
   "execution_count": 100,
   "id": "fda143e3",
   "metadata": {},
   "outputs": [],
   "source": [
    "def save_points(save_file):\n",
    "    points = np.random.uniform(low=-2.5, high=2.5, size=(100, 2))\n",
    "    np.save(save_file, points)"
   ]
  },
  {
   "cell_type": "markdown",
   "id": "88e4c789",
   "metadata": {},
   "source": [
    "# Quiz"
   ]
  },
  {
   "cell_type": "markdown",
   "id": "335a0947",
   "metadata": {},
   "source": [
    "# 1- What does the arange function do?\n",
    "\n",
    "Your Answer\n",
    "### A) Returns a 1-D array of numbers based on a a given range and interval\n",
    "\n",
    "B)\n",
    "Returns a random array\n",
    "\n",
    "C)\n",
    "Squares each value of an array\n",
    "\n",
    "D)\n",
    "Returns the largest element of an array"
   ]
  },
  {
   "cell_type": "markdown",
   "id": "872cb0a2",
   "metadata": {},
   "source": [
    "# 2 -What happens if we try to use np.save on a file without a .npy extension?\n",
    "\n",
    "A) The function raises an exception\n",
    "\n",
    "B) The data is saved to the file without the .npy extension\n",
    "\n",
    "### C) The function automatically adds the .npy extension\n",
    "\n",
    "D)The function does nothing"
   ]
  },
  {
   "cell_type": "markdown",
   "id": "7c4e627b",
   "metadata": {},
   "source": [
    "# 3- What is the difference between np.sum and np.cumsum?\n",
    "\n",
    "A) The former is computationally more expensive than the latter\n",
    "\n",
    "B) Both perform the same thing\n",
    "\n",
    "C) The former is significantly slower than the latter\n",
    "\n",
    "### D) The former produces the overall sum while the latter calculates cumulative sums"
   ]
  },
  {
   "cell_type": "markdown",
   "id": "c6833316",
   "metadata": {},
   "source": [
    "# 4- Consider the 2-D array, arr. What is the output of np.sum(arr, axis=1)?\n",
    "\n",
    "A) A 1-D array containing the column sums of arr\n",
    "\n",
    "### B) A 1-D array containing the row sums of arr\n",
    "\n",
    "C) A 2-D array containing the cumulative column sums of arr\n",
    "\n",
    "D) A 1-D array containing the cumulative row sums of arr"
   ]
  }
 ],
 "metadata": {
  "kernelspec": {
   "display_name": "Python 3 (ipykernel)",
   "language": "python",
   "name": "python3"
  },
  "language_info": {
   "codemirror_mode": {
    "name": "ipython",
    "version": 3
   },
   "file_extension": ".py",
   "mimetype": "text/x-python",
   "name": "python",
   "nbconvert_exporter": "python",
   "pygments_lexer": "ipython3",
   "version": "3.10.4"
  }
 },
 "nbformat": 4,
 "nbformat_minor": 5
}
